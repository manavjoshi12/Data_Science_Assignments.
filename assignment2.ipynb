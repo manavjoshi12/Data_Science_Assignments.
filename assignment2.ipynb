{
 "cells": [
  {
   "cell_type": "code",
   "execution_count": null,
   "id": "ec45299a-ad49-450f-a1d2-734cdf09b7d0",
   "metadata": {},
   "outputs": [],
   "source": [
    "#Q1. How do you comment code in Python? What are the different types of comments?\n",
    "#Ansrwe)\n",
    "# If we want to begin any comment in python, than it starts with hash mark(#).\n",
    "#There are two types of comments in python, they are,single line comment and multiple line comments.\n",
    "# Single line comments starts and ends in the same line which is initiated with the hash mark(#).\n",
    "#In Multiple line comments, there is no limit of writing the comments, developer uses it when he/she needs to write a complete paragraph or multiple instructions which are not the part of the code.\n",
    "#Even Multiple line comments stars with the hash mark(#)"
   ]
  },
  {
   "cell_type": "code",
   "execution_count": null,
   "id": "1593a007-288a-4083-8814-c6c22f72fc6e",
   "metadata": {},
   "outputs": [],
   "source": [
    "#Q2. What are variables in Python? How do you declare and assign values to variables?\n",
    "#Answer)\n",
    "#Variable is a name given to the memory location. For declaring we first use any character or a group of charaters which we can say as naming and with the equal to(=) sign we enter the value we want to assign to that variable. That valus may be string, Integer, floot, Boolen, Dictionary, etc\n",
    "#Example\n",
    "#a=45, here whenever we calls the a, will get 45 which means we have assigned 45 to the variable a."
   ]
  },
  {
   "cell_type": "code",
   "execution_count": null,
   "id": "5b80800f-1957-4510-b919-813036523607",
   "metadata": {},
   "outputs": [],
   "source": [
    "#Q3. How do you convert one data type to another in Python?\n",
    "#Answer)\n",
    "#There are two methods to convert one data type to another,\n",
    "#1)Implicit type conversion: In this type of conversion of data type, python interpreter automatically converts one type of data into another without any user involvement\n",
    "#for an example if we add any integer number with float number, the output will be in float number\n",
    "\n",
    "#2)Explicit type conversion: Here user have to mention the type of data type which he/she whants in the output.\n",
    "#example:\n",
    "#if a=2, \n",
    "#since a is interger data type and if we want to convert it in float then we should follow the below method\n",
    "#float(a)\n",
    "#o/p: 2.0"
   ]
  },
  {
   "cell_type": "code",
   "execution_count": null,
   "id": "a4ce246e-2321-47c2-a6fc-53c050ad7700",
   "metadata": {},
   "outputs": [],
   "source": [
    "#Q4. How do you write and execute a Python script from the command line?\n",
    "# Answer)\n",
    "#To write and execute a Python script from the command line, we need to verify that our terminal or command prompt can run Python. Then, will create a Python script that is error-free. To run the script, we can call the Python program from the Command Prompt and tell it which file to execute. we can also specify the path to the script or have the same working directory. To exit the interactive session, we can type quit() or exit()"
   ]
  },
  {
   "cell_type": "code",
   "execution_count": null,
   "id": "c59e0b05-7dc4-46fe-8500-d0af9198e767",
   "metadata": {},
   "outputs": [],
   "source": [
    "#Q5. Given a list my_list = [1, 2, 3, 4, 5], write the code to slice the list and obtain the sub-list [2, 3]."
   ]
  },
  {
   "cell_type": "code",
   "execution_count": 5,
   "id": "563b986c-edbc-4556-872b-0e15712d4088",
   "metadata": {},
   "outputs": [],
   "source": [
    "my_list = [1,2,3,4,5]"
   ]
  },
  {
   "cell_type": "code",
   "execution_count": 6,
   "id": "cfc1bd51-454c-423e-9b33-6bc0ef936691",
   "metadata": {},
   "outputs": [
    {
     "data": {
      "text/plain": [
       "[2, 3]"
      ]
     },
     "execution_count": 6,
     "metadata": {},
     "output_type": "execute_result"
    }
   ],
   "source": [
    "my_list[1:3]"
   ]
  },
  {
   "cell_type": "code",
   "execution_count": null,
   "id": "3dc3adb0-0197-4a5d-8953-e0c75ec92146",
   "metadata": {},
   "outputs": [],
   "source": [
    "#Q6. What is a complex number in mathematics, and how is it represented in Python?"
   ]
  },
  {
   "cell_type": "code",
   "execution_count": null,
   "id": "3a63587d-e261-41f8-82b9-32223d5d6c95",
   "metadata": {},
   "outputs": [],
   "source": [
    "#Answer)\n",
    "#Complex number is something which has a real and an imaginary part. \n",
    "#E.g : 34 + 17j or 34+17J"
   ]
  },
  {
   "cell_type": "code",
   "execution_count": 7,
   "id": "eb6fbdbf-ae67-49da-bcd7-f37fec61e0f2",
   "metadata": {},
   "outputs": [
    {
     "data": {
      "text/plain": [
       "25"
      ]
     },
     "execution_count": 7,
     "metadata": {},
     "output_type": "execute_result"
    }
   ],
   "source": [
    "#Q7. What is the correct way to declare a variable named age and assign the value 25 to it?\n",
    "\n",
    "#Variable names must begin with a letter, underscore, non-number character. and we must always use the ‘=’ sign to initialize a value to the Variable.\n",
    "\n",
    "age=25\n",
    "age"
   ]
  },
  {
   "cell_type": "code",
   "execution_count": null,
   "id": "140fb93e-4943-4704-b6f3-4d70473ea957",
   "metadata": {},
   "outputs": [],
   "source": [
    "#Q8. Declare a variable named price and assign the value 9.99 to it. What data type does this variable belong to?"
   ]
  },
  {
   "cell_type": "code",
   "execution_count": 10,
   "id": "787cc151-0878-4427-94bb-014a5ec2d968",
   "metadata": {},
   "outputs": [],
   "source": [
    "#answer\n",
    "price = 9.99\n",
    "#its a float data type"
   ]
  },
  {
   "cell_type": "code",
   "execution_count": 11,
   "id": "737f9ef7-7a14-41bb-ae02-e7601a0b32fa",
   "metadata": {},
   "outputs": [
    {
     "data": {
      "text/plain": [
       "float"
      ]
     },
     "execution_count": 11,
     "metadata": {},
     "output_type": "execute_result"
    }
   ],
   "source": [
    "type (price)"
   ]
  },
  {
   "cell_type": "code",
   "execution_count": null,
   "id": "484fab78-140b-4d0f-ae69-bb36f4330e57",
   "metadata": {},
   "outputs": [],
   "source": [
    "#Q9. Create a variable named name and assign your full name to it as a string. How would you print the value of this variable?"
   ]
  },
  {
   "cell_type": "code",
   "execution_count": 13,
   "id": "c3d64bcc-9d65-49f3-879d-4d6d001c18ff",
   "metadata": {},
   "outputs": [],
   "source": [
    "name = 'kawya singh'"
   ]
  },
  {
   "cell_type": "code",
   "execution_count": 14,
   "id": "37ca9a96-9a92-467d-b37a-e64b328cc34f",
   "metadata": {},
   "outputs": [
    {
     "data": {
      "text/plain": [
       "'kawya singh'"
      ]
     },
     "execution_count": 14,
     "metadata": {},
     "output_type": "execute_result"
    }
   ],
   "source": [
    "name"
   ]
  },
  {
   "cell_type": "code",
   "execution_count": 15,
   "id": "c3a7fe2e-b28c-4e3f-a641-11721fd84c03",
   "metadata": {},
   "outputs": [
    {
     "name": "stdout",
     "output_type": "stream",
     "text": [
      "k\n",
      "a\n",
      "w\n",
      "y\n",
      "a\n",
      " \n",
      "s\n",
      "i\n",
      "n\n",
      "g\n",
      "h\n"
     ]
    }
   ],
   "source": [
    "#or another way\n",
    "for i in name:\n",
    "    print(i)"
   ]
  },
  {
   "cell_type": "code",
   "execution_count": null,
   "id": "24a4eec5-cfb4-4e8a-b14c-81d07aef0a17",
   "metadata": {},
   "outputs": [],
   "source": [
    "#Q10. Given the string \"Hello, World!\", extract the substring \"World\"."
   ]
  },
  {
   "cell_type": "code",
   "execution_count": 17,
   "id": "6bec5920-5df4-491a-944c-d9fa79bae0af",
   "metadata": {},
   "outputs": [],
   "source": [
    "a ='hello world!'"
   ]
  },
  {
   "cell_type": "code",
   "execution_count": 18,
   "id": "ef456837-45c4-434f-8476-ca3d36d5ce01",
   "metadata": {},
   "outputs": [
    {
     "data": {
      "text/plain": [
       "'world'"
      ]
     },
     "execution_count": 18,
     "metadata": {},
     "output_type": "execute_result"
    }
   ],
   "source": [
    "a [6:11]"
   ]
  },
  {
   "cell_type": "code",
   "execution_count": 19,
   "id": "6934128a-ae40-4229-ab6e-9e39855a1635",
   "metadata": {},
   "outputs": [],
   "source": [
    "#Q11. Create a variable named \"is_student\" and assign it a boolean value indicating whether you are currently a student or not.\n",
    "\n",
    "#answer\n",
    "is_student=input('are you a student')\n",
    "if is_student=='yes':\n",
    "    print(True)\n",
    "else:\n",
    "    print(False)\n",
    "\n",
    "\n",
    "\n"
   ]
  },
  {
   "cell_type": "code",
   "execution_count": null,
   "id": "bc2de9c5-28bb-4211-819a-c767afd769b5",
   "metadata": {},
   "outputs": [],
   "source": []
  },
  {
   "cell_type": "code",
   "execution_count": null,
   "id": "3a4265b7-75d6-4632-a668-4115d26bc1c7",
   "metadata": {},
   "outputs": [],
   "source": []
  },
  {
   "cell_type": "code",
   "execution_count": null,
   "id": "689975ab-3bb1-46d3-9ce3-f5e81bb109d3",
   "metadata": {},
   "outputs": [],
   "source": []
  }
 ],
 "metadata": {
  "kernelspec": {
   "display_name": "Python 3 (ipykernel)",
   "language": "python",
   "name": "python3"
  },
  "language_info": {
   "codemirror_mode": {
    "name": "ipython",
    "version": 3
   },
   "file_extension": ".py",
   "mimetype": "text/x-python",
   "name": "python",
   "nbconvert_exporter": "python",
   "pygments_lexer": "ipython3",
   "version": "3.10.8"
  }
 },
 "nbformat": 4,
 "nbformat_minor": 5
}
