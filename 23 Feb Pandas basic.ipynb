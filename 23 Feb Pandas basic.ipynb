{
 "cells": [
  {
   "cell_type": "markdown",
   "id": "e1226498-e86f-4abb-a7b6-6d39b9bdcebd",
   "metadata": {},
   "source": [
    "# Q1. Create a Pandas Series that contains the following data: 4, 8, 15, 16, 23, and 42. Then, print the series."
   ]
  },
  {
   "cell_type": "code",
   "execution_count": 1,
   "id": "0b4f2974-f185-428a-ad68-b574a8e51038",
   "metadata": {},
   "outputs": [],
   "source": [
    "import pandas as pd\n"
   ]
  },
  {
   "cell_type": "code",
   "execution_count": 2,
   "id": "cb31da29-f0c2-4d17-9d53-5331466d288b",
   "metadata": {},
   "outputs": [],
   "source": [
    "data = {\"Numbers\" : [4,8,15,16,23,42]}"
   ]
  },
  {
   "cell_type": "code",
   "execution_count": 4,
   "id": "345d6717-6db6-4ed9-962a-27c23b2e3bba",
   "metadata": {},
   "outputs": [],
   "source": [
    "df = pd.DataFrame(data)"
   ]
  },
  {
   "cell_type": "code",
   "execution_count": 5,
   "id": "d08bc61c-9d67-4d23-9f44-1080b6dab230",
   "metadata": {},
   "outputs": [
    {
     "name": "stdout",
     "output_type": "stream",
     "text": [
      "   Numbers\n",
      "0        4\n",
      "1        8\n",
      "2       15\n",
      "3       16\n",
      "4       23\n",
      "5       42\n"
     ]
    }
   ],
   "source": [
    "print(df)"
   ]
  },
  {
   "cell_type": "code",
   "execution_count": 8,
   "id": "3ec826c6-8225-4115-8d3b-c178de74cc2f",
   "metadata": {},
   "outputs": [
    {
     "data": {
      "text/plain": [
       "pandas.core.series.Series"
      ]
     },
     "execution_count": 8,
     "metadata": {},
     "output_type": "execute_result"
    }
   ],
   "source": [
    "type(df[\"Numbers\"])"
   ]
  },
  {
   "cell_type": "markdown",
   "id": "06ab6281-085a-4144-8625-b45083597c2a",
   "metadata": {},
   "source": [
    "# Q2. Create a variable of list type containing 10 elements in it, and apply pandas.Series function on the variable print it."
   ]
  },
  {
   "cell_type": "code",
   "execution_count": 14,
   "id": "1797561f-4b48-4d66-a4d5-f95334e0c291",
   "metadata": {},
   "outputs": [],
   "source": [
    "list_ = [10,20,30,40,50,60,70,80,90,100]"
   ]
  },
  {
   "cell_type": "code",
   "execution_count": 16,
   "id": "a50e8724-3326-40b6-96da-f26d0ec45763",
   "metadata": {},
   "outputs": [],
   "source": [
    "my_list = pd.Series(list_)"
   ]
  },
  {
   "cell_type": "code",
   "execution_count": 17,
   "id": "41766d08-436e-4ec8-92b6-481b507260cc",
   "metadata": {},
   "outputs": [
    {
     "name": "stdout",
     "output_type": "stream",
     "text": [
      "0     10\n",
      "1     20\n",
      "2     30\n",
      "3     40\n",
      "4     50\n",
      "5     60\n",
      "6     70\n",
      "7     80\n",
      "8     90\n",
      "9    100\n",
      "dtype: int64\n"
     ]
    }
   ],
   "source": [
    "print(my_list)"
   ]
  },
  {
   "cell_type": "markdown",
   "id": "ee5416ec-e81e-409a-a3b3-68d3154f82b7",
   "metadata": {},
   "source": [
    "# Q3. Create a Pandas DataFrame that contains the following data:"
   ]
  },
  {
   "cell_type": "code",
   "execution_count": 18,
   "id": "0bda1645-7421-4ec8-bee6-a4a84f71d57e",
   "metadata": {},
   "outputs": [],
   "source": [
    "data1 = {\"Name\" : [\"Alice\" , \"Bob\", \"Claire\"], \"Age\" : [25,30,27], \"Gender\" : [\"Female\" , \"Male\", \"Female\"]\n",
    "}"
   ]
  },
  {
   "cell_type": "code",
   "execution_count": 22,
   "id": "858eba63-2d3e-48d9-a14d-e2084c651c8c",
   "metadata": {},
   "outputs": [
    {
     "data": {
      "text/html": [
       "<div>\n",
       "<style scoped>\n",
       "    .dataframe tbody tr th:only-of-type {\n",
       "        vertical-align: middle;\n",
       "    }\n",
       "\n",
       "    .dataframe tbody tr th {\n",
       "        vertical-align: top;\n",
       "    }\n",
       "\n",
       "    .dataframe thead th {\n",
       "        text-align: right;\n",
       "    }\n",
       "</style>\n",
       "<table border=\"1\" class=\"dataframe\">\n",
       "  <thead>\n",
       "    <tr style=\"text-align: right;\">\n",
       "      <th></th>\n",
       "      <th>Name</th>\n",
       "      <th>Age</th>\n",
       "      <th>Gender</th>\n",
       "    </tr>\n",
       "  </thead>\n",
       "  <tbody>\n",
       "    <tr>\n",
       "      <th>0</th>\n",
       "      <td>Alice</td>\n",
       "      <td>25</td>\n",
       "      <td>Female</td>\n",
       "    </tr>\n",
       "    <tr>\n",
       "      <th>1</th>\n",
       "      <td>Bob</td>\n",
       "      <td>30</td>\n",
       "      <td>Male</td>\n",
       "    </tr>\n",
       "    <tr>\n",
       "      <th>2</th>\n",
       "      <td>Claire</td>\n",
       "      <td>27</td>\n",
       "      <td>Female</td>\n",
       "    </tr>\n",
       "  </tbody>\n",
       "</table>\n",
       "</div>"
      ],
      "text/plain": [
       "     Name  Age  Gender\n",
       "0   Alice   25  Female\n",
       "1     Bob   30    Male\n",
       "2  Claire   27  Female"
      ]
     },
     "execution_count": 22,
     "metadata": {},
     "output_type": "execute_result"
    }
   ],
   "source": [
    "pd.DataFrame(data1)"
   ]
  },
  {
   "cell_type": "code",
   "execution_count": 20,
   "id": "af0861d7-a802-4eb8-8059-42932d790b8c",
   "metadata": {},
   "outputs": [],
   "source": [
    "Q3_Data_Frame = pd.DataFrame(data1)"
   ]
  },
  {
   "cell_type": "code",
   "execution_count": 21,
   "id": "e3c715d7-f222-4fc1-980d-801a34b305a3",
   "metadata": {},
   "outputs": [
    {
     "name": "stdout",
     "output_type": "stream",
     "text": [
      "     Name  Age  Gender\n",
      "0   Alice   25  Female\n",
      "1     Bob   30    Male\n",
      "2  Claire   27  Female\n"
     ]
    }
   ],
   "source": [
    "print(Q3_Data_Frame)"
   ]
  },
  {
   "cell_type": "markdown",
   "id": "e2c7d4ed-785f-4cb3-a3ab-cd778bf6122d",
   "metadata": {},
   "source": [
    "# Q4. What is ‘DataFrame’ in pandas and how is it different from pandas.series? Explain with an example."
   ]
  },
  {
   "cell_type": "markdown",
   "id": "4553a3e7-205a-474d-af6e-19110b7d042d",
   "metadata": {},
   "source": [
    "In Pandas, a DataFrame is a two-dimensional size-mutable, tabular data structure with rows and columns, whereas a Pandas Series is a one-dimensional labeled array capable of holding data of any type.\n",
    "\n",
    "A DataFrame is a collection of Series objects, and each Series represents a column in the DataFrame. It is a tabular data structure that contains a set of observations or data points, each represented as a row, with each column containing a different feature or attribute of the data point.\n",
    "\n",
    "In contrast, a Series is a one-dimensional labeled array that can hold any data type. It has only one column of data and an index that represents the row labels.\n",
    "\n",
    "Example:\n",
    "Let's consider an example to demonstrate the difference between DataFrame and Series:"
   ]
  },
  {
   "cell_type": "code",
   "execution_count": 23,
   "id": "02957c75-5943-4deb-89fd-a57f44646d4c",
   "metadata": {},
   "outputs": [
    {
     "data": {
      "text/html": [
       "<div>\n",
       "<style scoped>\n",
       "    .dataframe tbody tr th:only-of-type {\n",
       "        vertical-align: middle;\n",
       "    }\n",
       "\n",
       "    .dataframe tbody tr th {\n",
       "        vertical-align: top;\n",
       "    }\n",
       "\n",
       "    .dataframe thead th {\n",
       "        text-align: right;\n",
       "    }\n",
       "</style>\n",
       "<table border=\"1\" class=\"dataframe\">\n",
       "  <thead>\n",
       "    <tr style=\"text-align: right;\">\n",
       "      <th></th>\n",
       "      <th>Name</th>\n",
       "      <th>Age</th>\n",
       "      <th>Gender</th>\n",
       "    </tr>\n",
       "  </thead>\n",
       "  <tbody>\n",
       "    <tr>\n",
       "      <th>0</th>\n",
       "      <td>Alice</td>\n",
       "      <td>25</td>\n",
       "      <td>Female</td>\n",
       "    </tr>\n",
       "    <tr>\n",
       "      <th>1</th>\n",
       "      <td>Bob</td>\n",
       "      <td>30</td>\n",
       "      <td>Male</td>\n",
       "    </tr>\n",
       "    <tr>\n",
       "      <th>2</th>\n",
       "      <td>Claire</td>\n",
       "      <td>27</td>\n",
       "      <td>Female</td>\n",
       "    </tr>\n",
       "  </tbody>\n",
       "</table>\n",
       "</div>"
      ],
      "text/plain": [
       "     Name  Age  Gender\n",
       "0   Alice   25  Female\n",
       "1     Bob   30    Male\n",
       "2  Claire   27  Female"
      ]
     },
     "execution_count": 23,
     "metadata": {},
     "output_type": "execute_result"
    }
   ],
   "source": [
    "# I am taking example of Q3\n",
    "\n",
    "# This is a data frame\n",
    "pd.DataFrame(data1)"
   ]
  },
  {
   "cell_type": "code",
   "execution_count": 26,
   "id": "10083a32-d2ff-4b23-91dc-b3ca78fc2fc1",
   "metadata": {},
   "outputs": [
    {
     "name": "stdout",
     "output_type": "stream",
     "text": [
      "<class 'pandas.core.frame.DataFrame'>\n"
     ]
    }
   ],
   "source": [
    "Q3_Data_Frame = pd.DataFrame(data1)\n",
    "print (type(Q3_Data_Frame))"
   ]
  },
  {
   "cell_type": "code",
   "execution_count": 29,
   "id": "d22055d0-9be2-4b09-80c4-0c0b4e702adb",
   "metadata": {},
   "outputs": [
    {
     "data": {
      "text/plain": [
       "0     Alice\n",
       "1       Bob\n",
       "2    Claire\n",
       "Name: Name, dtype: object"
      ]
     },
     "execution_count": 29,
     "metadata": {},
     "output_type": "execute_result"
    }
   ],
   "source": [
    "# This is a series\n",
    "Q3_Data_Frame[\"Name\"]"
   ]
  },
  {
   "cell_type": "code",
   "execution_count": 28,
   "id": "d5a829f7-0137-4187-bfeb-9ddb3b765f19",
   "metadata": {},
   "outputs": [
    {
     "name": "stdout",
     "output_type": "stream",
     "text": [
      "<class 'pandas.core.series.Series'>\n"
     ]
    }
   ],
   "source": [
    "name_series = Q3_Data_Frame[\"Name\"]\n",
    "print (type(name_series))"
   ]
  },
  {
   "cell_type": "markdown",
   "id": "3bfa683c-233f-4314-8170-8bdbbddb581f",
   "metadata": {},
   "source": [
    "# Q5. What are some common functions you can use to manipulate data in a Pandas DataFrame? Can you give an example of when you might use one of these functions?"
   ]
  },
  {
   "cell_type": "markdown",
   "id": "db4ff76d-6fd8-49ed-8ff0-8cd0b09e9a48",
   "metadata": {},
   "source": [
    "There are many functions available in Pandas to manipulate data in a DataFrame. Some common functions include:\n",
    "\n",
    "* head() and tail(): These functions allow you to view the first or last n rows of a DataFrame, respectively. They can be useful for quickly checking the structure and content of a DataFrame.\n",
    "\n",
    "* info(): This function provides information about a DataFrame, including the number of non-null values and data types of each column.\n",
    "\n",
    "* describe(): This function generates descriptive statistics for a DataFrame, including the count, mean, standard deviation, minimum, and maximum values.\n",
    "\n",
    "* groupby(): This function is used to group a DataFrame by one or more columns, allowing you to perform aggregate functions on the groups. For example, you might use groupby() to calculate the average value of a column for each group.\n",
    "\n",
    "* pivot_table(): This function is used to create a pivot table from a DataFrame. A pivot table is a way of summarizing data by grouping and aggregating it.\n",
    "\n",
    "* apply(): This function applies a function to each element of a DataFrame, either row-wise or column-wise. This can be useful for performing custom transformations on your data."
   ]
  },
  {
   "cell_type": "code",
   "execution_count": 2,
   "id": "e8107412-5470-417c-bb83-5b7e43308dd5",
   "metadata": {},
   "outputs": [
    {
     "data": {
      "text/plain": [
       "[      Rk          Player Pos Age   Tm   G  GS    MP   FG  FGA  ...   FT%  ORB  \\\n",
       " 0      1      Quincy Acy  PF  24  NYK  68  22  1287  152  331  ...  .784   79   \n",
       " 1      2    Jordan Adams  SG  20  MEM  30   0   248   35   86  ...  .609    9   \n",
       " 2      3    Steven Adams   C  21  OKC  70  67  1771  217  399  ...  .502  199   \n",
       " 3      4     Jeff Adrien  PF  28  MIN  17   0   215   19   44  ...  .579   23   \n",
       " 4      5   Arron Afflalo  SG  29  TOT  78  72  2502  375  884  ...  .843   27   \n",
       " ..   ...             ...  ..  ..  ...  ..  ..   ...  ...  ...  ...   ...  ...   \n",
       " 670  490  Thaddeus Young  PF  26  TOT  76  68  2434  451  968  ...  .655  127   \n",
       " 671  490  Thaddeus Young  PF  26  MIN  48  48  1605  289  641  ...  .682   75   \n",
       " 672  490  Thaddeus Young  PF  26  BRK  28  20   829  162  327  ...  .606   52   \n",
       " 673  491     Cody Zeller   C  22  CHO  62  45  1487  172  373  ...  .774   97   \n",
       " 674  492    Tyler Zeller   C  25  BOS  82  59  1731  340  619  ...  .823  146   \n",
       " \n",
       "      DRB  TRB  AST  STL BLK  TOV   PF   PTS  \n",
       " 0    222  301   68   27  22   60  147   398  \n",
       " 1     19   28   16   16   7   14   24    94  \n",
       " 2    324  523   66   38  86   99  222   537  \n",
       " 3     54   77   15    4   9    9   30    60  \n",
       " 4    220  247  129   41   7  116  167  1035  \n",
       " ..   ...  ...  ...  ...  ..  ...  ...   ...  \n",
       " 670  284  411  173  124  25  117  171  1071  \n",
       " 671  170  245  135   86  17   75  115   685  \n",
       " 672  114  166   38   38   8   42   56   386  \n",
       " 673  265  362  100   34  49   62  156   472  \n",
       " 674  319  465  113   18  52   76  205   833  \n",
       " \n",
       " [675 rows x 30 columns]]"
      ]
     },
     "execution_count": 2,
     "metadata": {},
     "output_type": "execute_result"
    }
   ],
   "source": [
    "# Example\n",
    "## If i have to read any data present in any html file present in the url I can do this as :\n",
    "import lxml\n",
    "pd.read_html('https://www.basketball-reference.com/leagues/NBA_2015_totals.html')"
   ]
  },
  {
   "cell_type": "code",
   "execution_count": 7,
   "id": "0bfa871d-8ad5-4622-a03d-fd2556883c21",
   "metadata": {},
   "outputs": [
    {
     "name": "stdout",
     "output_type": "stream",
     "text": [
      "Collecting lxml\n",
      "  Downloading lxml-4.9.2-cp310-cp310-manylinux_2_17_x86_64.manylinux2014_x86_64.manylinux_2_24_x86_64.whl (7.1 MB)\n",
      "\u001b[2K     \u001b[90m━━━━━━━━━━━━━━━━━━━━━━━━━━━━━━━━━━━━━━━━\u001b[0m \u001b[32m7.1/7.1 MB\u001b[0m \u001b[31m31.6 MB/s\u001b[0m eta \u001b[36m0:00:00\u001b[0m00:01\u001b[0m00:01\u001b[0m\n",
      "\u001b[?25hInstalling collected packages: lxml\n",
      "Successfully installed lxml-4.9.2\n",
      "Note: you may need to restart the kernel to use updated packages.\n"
     ]
    }
   ],
   "source": [
    "pip install lxml"
   ]
  },
  {
   "cell_type": "markdown",
   "id": "a4c8a63b-876b-4133-9fc4-b2b57a78a61e",
   "metadata": {},
   "source": [
    "# Q6. Which of the following is mutable in nature Series, DataFrame, Panel?"
   ]
  },
  {
   "cell_type": "markdown",
   "id": "40568766-f570-4311-bbda-84368075d59e",
   "metadata": {},
   "source": [
    "* Series and DataFrame are mutable in nature, while Panel is immutable."
   ]
  },
  {
   "cell_type": "markdown",
   "id": "02e58a9e-b291-449c-ae68-adff199e4730",
   "metadata": {},
   "source": [
    "# Q7. Create a DataFrame using multiple Series. Explain with an example."
   ]
  },
  {
   "cell_type": "code",
   "execution_count": 19,
   "id": "785e8773-b781-4284-8cba-d735a81d9bfb",
   "metadata": {},
   "outputs": [],
   "source": [
    "name = pd.Series(['sumit', 'rimmi', 'umang', 'raghav'])\n",
    "age = pd.Series([25, 30, 35, 40])\n",
    "city = pd.Series(['Aligarh', 'delhi', 'agra', 'bombay'])"
   ]
  },
  {
   "cell_type": "code",
   "execution_count": 22,
   "id": "a4437bcc-f605-4f31-bd14-6a0ff2ecf8c9",
   "metadata": {},
   "outputs": [
    {
     "data": {
      "text/html": [
       "<div>\n",
       "<style scoped>\n",
       "    .dataframe tbody tr th:only-of-type {\n",
       "        vertical-align: middle;\n",
       "    }\n",
       "\n",
       "    .dataframe tbody tr th {\n",
       "        vertical-align: top;\n",
       "    }\n",
       "\n",
       "    .dataframe thead th {\n",
       "        text-align: right;\n",
       "    }\n",
       "</style>\n",
       "<table border=\"1\" class=\"dataframe\">\n",
       "  <thead>\n",
       "    <tr style=\"text-align: right;\">\n",
       "      <th></th>\n",
       "      <th>Name</th>\n",
       "      <th>Age</th>\n",
       "      <th>City</th>\n",
       "    </tr>\n",
       "  </thead>\n",
       "  <tbody>\n",
       "    <tr>\n",
       "      <th>0</th>\n",
       "      <td>sumit</td>\n",
       "      <td>25</td>\n",
       "      <td>Aligarh</td>\n",
       "    </tr>\n",
       "    <tr>\n",
       "      <th>1</th>\n",
       "      <td>rimmi</td>\n",
       "      <td>30</td>\n",
       "      <td>delhi</td>\n",
       "    </tr>\n",
       "    <tr>\n",
       "      <th>2</th>\n",
       "      <td>umang</td>\n",
       "      <td>35</td>\n",
       "      <td>agra</td>\n",
       "    </tr>\n",
       "    <tr>\n",
       "      <th>3</th>\n",
       "      <td>raghav</td>\n",
       "      <td>40</td>\n",
       "      <td>bombay</td>\n",
       "    </tr>\n",
       "  </tbody>\n",
       "</table>\n",
       "</div>"
      ],
      "text/plain": [
       "     Name  Age     City\n",
       "0   sumit   25  Aligarh\n",
       "1   rimmi   30    delhi\n",
       "2   umang   35     agra\n",
       "3  raghav   40   bombay"
      ]
     },
     "execution_count": 22,
     "metadata": {},
     "output_type": "execute_result"
    }
   ],
   "source": [
    "pd.DataFrame({'Name': name, 'Age': age, 'City': city})"
   ]
  },
  {
   "cell_type": "code",
   "execution_count": 20,
   "id": "93c6122f-a9f1-457e-8ffd-c6c1b8686a91",
   "metadata": {},
   "outputs": [],
   "source": [
    "df = pd.DataFrame({'Name': name, 'Age': age, 'City': city})\n"
   ]
  },
  {
   "cell_type": "code",
   "execution_count": 21,
   "id": "daf8432c-d8c3-4673-8bde-a62786cc138f",
   "metadata": {},
   "outputs": [
    {
     "name": "stdout",
     "output_type": "stream",
     "text": [
      "     Name  Age     City\n",
      "0   sumit   25  Aligarh\n",
      "1   rimmi   30    delhi\n",
      "2   umang   35     agra\n",
      "3  raghav   40   bombay\n"
     ]
    }
   ],
   "source": [
    "print(df)\n"
   ]
  }
 ],
 "metadata": {
  "kernelspec": {
   "display_name": "Python 3 (ipykernel)",
   "language": "python",
   "name": "python3"
  },
  "language_info": {
   "codemirror_mode": {
    "name": "ipython",
    "version": 3
   },
   "file_extension": ".py",
   "mimetype": "text/x-python",
   "name": "python",
   "nbconvert_exporter": "python",
   "pygments_lexer": "ipython3",
   "version": "3.10.8"
  }
 },
 "nbformat": 4,
 "nbformat_minor": 5
}
