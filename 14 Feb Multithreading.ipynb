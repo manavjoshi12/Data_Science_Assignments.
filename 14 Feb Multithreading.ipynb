{
 "cells": [
  {
   "cell_type": "markdown",
   "id": "2e142534-e807-4544-90a0-6aa50c679fd8",
   "metadata": {},
   "source": [
    "# Q1. What is multithreading in python? Why is it used? Name the module used to handle threads in python"
   ]
  },
  {
   "cell_type": "markdown",
   "id": "137bad87-e5a6-450f-89db-b5f0c708894b",
   "metadata": {},
   "source": [
    "Multithreading in Python refers to the ability to execute multiple threads (smaller units of a program) concurrently within a single process. Each thread represents an independent flow of execution, allowing different parts of the program to run concurrently.\n",
    "\n",
    "Multithreading is used to achieve parallelism and improve the efficiency of programs that involve tasks that can be executed simultaneously. It allows multiple threads to execute concurrently, potentially speeding up the execution time of the program, especially when there are blocking or time-consuming operations such as I/O or network requests.\n",
    "\n",
    "The threading module is used to handle threads in Python. It provides a high-level interface for creating and managing threads. It allows developers to create and start threads, synchronize their execution, and communicate between threads using various synchronization primitives such as locks, conditions, and semaphores.\n",
    "\n",
    "By utilizing multithreading, developers can make their programs more responsive, utilize system resources efficiently, and perform concurrent operations, leading to improved performance and better user experience."
   ]
  },
  {
   "cell_type": "markdown",
   "id": "a5fcb3df-6469-46ca-bb1a-9fd659992923",
   "metadata": {},
   "source": [
    "# Q2. Why threading module used? Write the use of the following functions:\n",
    "\n",
    "1. activeCount()\n",
    "2. currentThread()\n",
    "3. enumerate()"
   ]
  },
  {
   "cell_type": "markdown",
   "id": "009606cd-6f42-4d5d-852e-8028d38c5347",
   "metadata": {},
   "source": [
    "The threading module in Python is used to handle threads and provides a high-level interface for creating and managing threads. It offers various functions to facilitate thread management. Here are the explanations for the mentioned functions:\n",
    "\n",
    "1. activeCount(): This function returns the number of Thread objects currently alive. It returns an integer representing the current number of active threads in the program. It can be useful to monitor the number of active threads and ensure the desired concurrency is achieved.\n",
    "\n",
    "2. currentThread(): This function returns the Thread object corresponding to the current thread of execution. It is useful to obtain a reference to the current thread within the thread's own code. The returned Thread object can then be used to access information about the current thread or perform operations such as setting a thread name or accessing thread-local data.\n",
    "\n",
    "3. enumerate(): This function returns a list of all Thread objects currently alive. It provides a convenient way to get a list of all active threads in the program. Each Thread object in the list represents a live thread and can be used to access information about each thread or perform operations such as joining or terminating specific threads.\n",
    "\n",
    "These functions, along with other methods and classes provided by the threading module, help in managing and controlling the behavior of threads in a multi-threaded Python program."
   ]
  },
  {
   "cell_type": "markdown",
   "id": "4940ab79-6634-4748-a01b-1c5072467b4b",
   "metadata": {},
   "source": [
    "# Q3. Explain the following functions:\n",
    "\n",
    "1. run()\n",
    "2. start()\n",
    "3. join()\n",
    "4. isAlive()"
   ]
  },
  {
   "cell_type": "markdown",
   "id": "8e8ec793-5f43-4c4f-9ca6-fd166dcd662a",
   "metadata": {},
   "source": [
    "In the context of the threading module in Python, the following functions are related to thread execution and thread state:\n",
    "\n",
    "1. run(): This method is executed when a thread is started using the start() method. It contains the code that will be run in the thread's separate execution context. By default, the run() method of a Thread object does nothing, and you should subclass Thread and override this method with your custom logic.\n",
    "\n",
    "2. start(): This method is used to start the execution of a thread. When called, it creates a new thread of execution and invokes the run() method in that thread. It is important to note that the start() method should be called only once per thread object. Attempting to start a thread that has already been started will raise a RuntimeError.\n",
    "\n",
    "3. join(): This method is used to wait for a thread to complete its execution. When called on a thread object, it blocks the calling thread until the target thread finishes execution. The calling thread will resume its execution after the join() call returns. This method can be useful when you want to ensure that certain tasks are completed before proceeding further in the main thread.\n",
    "\n",
    "4. isAlive(): This method is used to check whether a thread is currently active or alive. It returns True if the thread is still executing and has not yet finished, and False otherwise. It can be helpful to check the status of a thread and make decisions based on whether it is still running or has completed its execution.\n",
    "\n",
    "These functions are important for managing the execution flow and synchronization of threads in a multi-threaded Python program."
   ]
  },
  {
   "cell_type": "markdown",
   "id": "513af4d7-4b97-4339-a0d3-a0a09451d38e",
   "metadata": {
    "tags": []
   },
   "source": [
    "# Q4. Write a python program to create two threads. Thread one must print the list of squares and thread two must print the list of cubes"
   ]
  },
  {
   "cell_type": "code",
   "execution_count": 1,
   "id": "8b0c4d40-f8f1-42bb-a0db-f149b42905ef",
   "metadata": {},
   "outputs": [
    {
     "name": "stdout",
     "output_type": "stream",
     "text": [
      "Square of 1: 1\n",
      "Square of 2: 4\n",
      "Square of 3: 9\n",
      "Square of 4: 16\n",
      "Square of 5: 25\n",
      "Square of 6: 36\n",
      "Square of 7: 49\n",
      "Square of 8: 64\n",
      "Square of 9: 81\n",
      "Square of 10: 100\n",
      "Cube of 1: 1\n",
      "Cube of 2: 8\n",
      "Cube of 3: 27\n",
      "Cube of 4: 64\n",
      "Cube of 5: 125\n",
      "Cube of 6: 216\n",
      "Cube of 7: 343\n",
      "Cube of 8: 512\n",
      "Cube of 9: 729\n",
      "Cube of 10: 1000\n",
      "Done!\n"
     ]
    }
   ],
   "source": [
    "import threading\n",
    "\n",
    "# Function to print squares\n",
    "def print_squares():\n",
    "    for i in range(1, 11):\n",
    "        print(f\"Square of {i}: {i*i}\")\n",
    "\n",
    "# Function to print cubes\n",
    "def print_cubes():\n",
    "    for i in range(1, 11):\n",
    "        print(f\"Cube of {i}: {i*i*i}\")\n",
    "\n",
    "# Create the first thread for printing squares\n",
    "thread1 = threading.Thread(target=print_squares)\n",
    "\n",
    "# Create the second thread for printing cubes\n",
    "thread2 = threading.Thread(target=print_cubes)\n",
    "\n",
    "# Start both threads\n",
    "thread1.start()\n",
    "thread2.start()\n",
    "\n",
    "# Wait for both threads to complete\n",
    "thread1.join()\n",
    "thread2.join()\n",
    "\n",
    "print(\"Done!\")\n"
   ]
  },
  {
   "cell_type": "markdown",
   "id": "72db55b1-c191-46c9-b496-9d75e9056f4c",
   "metadata": {},
   "source": [
    "# Q5. State advantages and disadvantages of multithreading."
   ]
  },
  {
   "cell_type": "markdown",
   "id": "43825a0d-8aa6-436c-9cf2-82f031b7256b",
   "metadata": {},
   "source": [
    "#### Advantages of Multithreading:\n",
    "\n",
    "1. Improved performance: Multithreading allows for parallel execution of tasks, which can lead to improved performance and utilization of system resources. It enables the execution of multiple tasks concurrently, thereby reducing overall execution time.\n",
    "\n",
    "2. Responsiveness: Multithreading helps in keeping the application responsive and interactive. By separating time-consuming tasks from the main thread, the user interface remains responsive and doesn't freeze or become unresponsive.\n",
    "\n",
    "3. Resource sharing: Threads within the same process can share resources such as memory, files, and network connections. This enables efficient communication and coordination between threads, leading to better resource utilization.\n",
    "\n",
    "4. Simplified program structure: Multithreading can simplify the program structure by dividing a complex task into smaller, more manageable threads. Each thread can focus on a specific aspect of the task, making the code easier to understand and maintain.\n",
    "\n",
    "#### Disadvantages of Multithreading:\n",
    "\n",
    "1. Complexity: Multithreading introduces complexity into the code. Synchronization of shared resources and coordination between threads require careful handling to avoid issues like race conditions, deadlocks, and data inconsistencies.\n",
    "\n",
    "2. Debugging and testing: With multiple threads running concurrently, debugging and testing become more challenging. It can be difficult to reproduce and diagnose issues that arise due to thread interactions.\n",
    "\n",
    "3. Increased resource consumption: Multithreading requires additional system resources, including memory and CPU time, to manage and switch between threads. If not properly managed, excessive creation of threads can lead to resource contention and performance degradation.\n",
    "\n",
    "4. Potential for thread-related issues: Multithreading can introduce various issues such as race conditions, deadlocks, and thread starvation. These issues can be hard to detect and resolve, requiring careful design and implementation of thread synchronization mechanisms.\n",
    "\n",
    "It is important to carefully consider the design and requirements of an application before incorporating multithreading, weighing the potential advantages against the associated complexities and challenges."
   ]
  },
  {
   "cell_type": "markdown",
   "id": "96f74e6d-9e6f-4960-8af1-b671727f5116",
   "metadata": {},
   "source": [
    "# Q6. Explain deadlocks and race conditions."
   ]
  },
  {
   "cell_type": "markdown",
   "id": "60048318-3f6b-4597-b3f3-6753b7114fa4",
   "metadata": {},
   "source": [
    "Deadlock and race condition are two common concurrency issues that can occur in multithreaded programs:\n",
    "\n",
    "Deadlock: Deadlock is a situation where two or more threads are blocked forever, waiting for each other to release resources. Deadlocks occur when all threads are unable to proceed because each thread is holding a resource that another thread requires to complete its execution. This creates a deadlock state where no progress can be made. Deadlocks are typically caused by a circular dependency of resources and improper synchronization.\n",
    "\n",
    "Example: Consider two threads, Thread A and Thread B, and two resources, Resource X and Resource Y. If Thread A holds Resource X and waits for Resource Y, while Thread B holds Resource Y and waits for Resource X, a deadlock occurs. Both threads are waiting for resources that are held by the other, leading to a deadlock state.\n",
    "\n",
    "Race Condition: A race condition occurs when multiple threads access shared data or resources concurrently, and the final outcome depends on the relative timing of their execution. It arises when the outcome of the program depends on the interleaving of operations performed by different threads. Race conditions can lead to unpredictable and erroneous behavior of the program.\n",
    "\n",
    "Example: Suppose two threads, Thread A and Thread B, are accessing and updating a shared variable simultaneously. If Thread A reads the value of the variable, performs some calculations, and writes the updated value back to the variable, while at the same time Thread B also reads the value, performs its own calculations, and writes back the updated value, the final value of the variable may be unexpected and inconsistent due to the interleaving of operations. This inconsistency is a race condition.\n",
    "\n",
    "Both deadlocks and race conditions are critical issues in concurrent programming and can result in incorrect program behavior, crashes, or system instability. Proper synchronization mechanisms, such as locks, mutexes, and semaphores, are employed to mitigate these issues and ensure the correct and predictable execution of multithreaded programs."
   ]
  }
 ],
 "metadata": {
  "kernelspec": {
   "display_name": "Python 3 (ipykernel)",
   "language": "python",
   "name": "python3"
  },
  "language_info": {
   "codemirror_mode": {
    "name": "ipython",
    "version": 3
   },
   "file_extension": ".py",
   "mimetype": "text/x-python",
   "name": "python",
   "nbconvert_exporter": "python",
   "pygments_lexer": "ipython3",
   "version": "3.10.8"
  }
 },
 "nbformat": 4,
 "nbformat_minor": 5
}
