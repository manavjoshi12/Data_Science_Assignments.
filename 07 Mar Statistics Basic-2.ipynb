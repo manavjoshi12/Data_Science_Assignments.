{
 "cells": [
  {
   "cell_type": "markdown",
   "id": "873ae816-cba8-4205-a718-5731794ae487",
   "metadata": {},
   "source": [
    "# Q1. What are the three measures of central tendency?"
   ]
  },
  {
   "cell_type": "markdown",
   "id": "2327deb4-a0a5-4f96-8e7d-6d448bd6735b",
   "metadata": {},
   "source": [
    "The three measures of central tendency are mean, median, and mode."
   ]
  },
  {
   "cell_type": "markdown",
   "id": "819a9e7a-a510-4235-b103-06ff016a9bb1",
   "metadata": {},
   "source": [
    "# Q2. What is the difference between the mean, median, and mode? How are they used to measure the central tendency of a dataset?"
   ]
  },
  {
   "cell_type": "markdown",
   "id": "d1ecf48c-4860-4ae6-951f-ec2d19ec40a9",
   "metadata": {},
   "source": [
    "Mean, median, and mode are the three measures of central tendency. They are used to describe the central location of a data set.\n",
    "\n",
    "* The mean, also known as the arithmetic mean, is the sum of all the values in a dataset divided by the number of values. It is the most commonly used measure of central tendency. The mean is sensitive to extreme values, and a single outlier can have a significant impact on its value.\n",
    "\n",
    "* The median is the middle value of a dataset when the values are arranged in order from lowest to highest. It is the value that divides the dataset into two equal parts. The median is used when the dataset contains extreme values that could significantly affect the mean.\n",
    "\n",
    "* The mode is the most common value in a dataset. It is used when the dataset contains several repeated values or when it is necessary to describe the most typical value.\n",
    "\n",
    "All three measures of central tendency have their own strengths and weaknesses. The mean is sensitive to extreme values but can be used for parametric statistical analysis. The median is less affected by extreme values but may not be appropriate for parametric analysis. The mode is a useful measure when the dataset has a skewed distribution or contains several repeated values, but it may not be representative of the central tendency of the dataset in all cases."
   ]
  },
  {
   "cell_type": "markdown",
   "id": "333bc8a7-ddc6-43bc-be3c-1847a1480a6e",
   "metadata": {},
   "source": [
    "# Q3. Measure the three measures of central tendency for the given height data:\n",
    "[178,177,176,177,178.2,178,175,179,180,175,178.9,176.2,177,172.5,178,176.5]"
   ]
  },
  {
   "cell_type": "code",
   "execution_count": 4,
   "id": "093dd250-1548-4e08-aace-11227b446891",
   "metadata": {},
   "outputs": [],
   "source": [
    "# The three measures of central tendency are mean, median, and mode."
   ]
  },
  {
   "cell_type": "code",
   "execution_count": 1,
   "id": "96014194-edf5-44af-9176-a63f09116df6",
   "metadata": {},
   "outputs": [],
   "source": [
    "data = [178,177,176,177,178.2,178,175,179,180,175,178.9,176.2,177,172.5,178,176.5]"
   ]
  },
  {
   "cell_type": "code",
   "execution_count": 12,
   "id": "4db4e1d8-9b78-4e55-8c98-76b6d86180d8",
   "metadata": {},
   "outputs": [
    {
     "name": "stdout",
     "output_type": "stream",
     "text": [
      "177.01875\n",
      "177.0\n",
      "ModeResult(mode=array([177.]), count=array([3]))\n"
     ]
    },
    {
     "name": "stderr",
     "output_type": "stream",
     "text": [
      "/tmp/ipykernel_4211/957471095.py:6: FutureWarning: Unlike other reduction functions (e.g. `skew`, `kurtosis`), the default behavior of `mode` typically preserves the axis it acts along. In SciPy 1.11.0, this behavior will change: the default value of `keepdims` will become False, the `axis` over which the statistic is taken will be eliminated, and the value None will no longer be accepted. Set `keepdims` to True or False to avoid this warning.\n",
      "  mode = stats.mode(data)\n"
     ]
    }
   ],
   "source": [
    "import numpy as np\n",
    "from scipy import stats\n",
    "\n",
    "mean = np.mean(data)\n",
    "median = np.median(data)\n",
    "mode = stats.mode(data)\n",
    "\n",
    "print(mean)\n",
    "print(median)\n",
    "print(mode)"
   ]
  },
  {
   "cell_type": "markdown",
   "id": "5ecd4011-81b9-4900-a00f-24fc392a35e0",
   "metadata": {},
   "source": [
    "177.01875\n",
    "177.0\n",
    "ModeResult(mode=array([177.]), count=array([3]))"
   ]
  },
  {
   "cell_type": "markdown",
   "id": "7336d5f1-4ba7-46f6-9385-3f0fd629c1e9",
   "metadata": {},
   "source": [
    "# Q4. Find the standard deviation for the given data:\n",
    "[178,177,176,177,178.2,178,175,179,180,175,178.9,176.2,177,172.5,178,176.5]"
   ]
  },
  {
   "cell_type": "code",
   "execution_count": 14,
   "id": "8f4563e8-ee14-40a5-b7a5-f05efd08d7d4",
   "metadata": {},
   "outputs": [],
   "source": [
    "data1 = [178,177,176,177,178.2,178,175,179,180,175,178.9,176.2,177,172.5,178,176.5]"
   ]
  },
  {
   "cell_type": "code",
   "execution_count": 15,
   "id": "db38cef4-55bb-442a-b97d-c737b6830570",
   "metadata": {},
   "outputs": [
    {
     "name": "stdout",
     "output_type": "stream",
     "text": [
      "1.7885814036548633\n"
     ]
    }
   ],
   "source": [
    "standard_deviation = np.std(data1)\n",
    "print(standard_deviation)"
   ]
  },
  {
   "cell_type": "markdown",
   "id": "9e7b6f46-f68d-439a-9d79-8eb4cdfd34c7",
   "metadata": {},
   "source": [
    "# Q5. How are measures of dispersion such as range, variance, and standard deviation used to describe the spread of a dataset? Provide an example."
   ]
  },
  {
   "cell_type": "markdown",
   "id": "ca735939-ebe3-4edf-8933-b467819f8796",
   "metadata": {},
   "source": [
    "Measures of dispersion are used to describe the spread or variability of a dataset. Here are some common measures of dispersion and how they are used:\n",
    "\n",
    "* Range: The range is the difference between the largest and smallest values in a dataset. It is a simple measure of dispersion but can be misleading if there are extreme values or outliers in the dataset. For example, if we have the following dataset of daily high temperatures for a city: [25, 27, 28, 30, 32, 34, 36], the range would be 11 (36-25).\n",
    "\n",
    "* Variance: Variance measures how far the values in a dataset are from the mean. A higher variance indicates that the data points are more spread out. It is calculated by taking the average of the squared differences from the mean. For example, if we have the following dataset of ages for a group of people: [25, 27, 28, 30, 32], the mean would be 28.4. The variance would be calculated as: ((25-28.4)^2 + (27-28.4)^2 + (28-28.4)^2 + (30-28.4)^2 + (32-28.4)^2)/5 = 7.04.\n",
    "\n",
    "* Standard deviation: The standard deviation is the square root of the variance. It is a more commonly used measure of dispersion as it is in the same unit as the data. A higher standard deviation indicates that the data points are more spread out. For example, if we have the same dataset of ages as before, the standard deviation would be the square root of the variance: sqrt(7.04) = 2.65.\n",
    "\n",
    "Together, measures of dispersion and central tendency help provide a more complete picture of a dataset, including how spread out the values are and where the majority of the values lie."
   ]
  },
  {
   "cell_type": "markdown",
   "id": "c32ae9fa-a079-4684-82a3-041e501fa2dd",
   "metadata": {},
   "source": [
    "# Q6. What is a Venn diagram?"
   ]
  },
  {
   "cell_type": "markdown",
   "id": "5ce930ea-be07-45a9-940f-fe3000e748ab",
   "metadata": {},
   "source": [
    "A Venn diagram is a graphical representation of the relationships between sets or groups. It consists of overlapping circles (or other shapes) that represent different groups or sets, with the overlap indicating the elements or characteristics that are common to both groups. Venn diagrams are often used in mathematics, statistics, logic, and other fields to visually illustrate the relationships between different groups or sets of data."
   ]
  },
  {
   "cell_type": "markdown",
   "id": "0db082da-c84c-45ef-bcb8-1e2376c16dc3",
   "metadata": {},
   "source": [
    "# Q7. For the two given sets A = (2,3,4,5,6,7) & B = (0,2,6,8,10). Find:\n",
    "(i) A ⋂ B\n",
    "(ii) A ⋃ B"
   ]
  },
  {
   "cell_type": "code",
   "execution_count": 21,
   "id": "14ed708f-5631-465e-8941-1fcb9dd4bf03",
   "metadata": {},
   "outputs": [
    {
     "name": "stdout",
     "output_type": "stream",
     "text": [
      "The intersection of A and B is (2, 6)\n",
      "The union of A and B is (0, 2, 3, 4, 5, 6, 7, 8, 10)\n"
     ]
    }
   ],
   "source": [
    "A = (2,3,4,5,6,7)\n",
    "B = (0,2,6,8,10)\n",
    "\n",
    "A = set(A)\n",
    "B = set(B)\n",
    "\n",
    "intersection = A.intersection(B)\n",
    "union = A.union(B)\n",
    "\n",
    "print(\"The intersection of A and B is\" , tuple(intersection))\n",
    "print(\"The union of A and B is\" , tuple(union))"
   ]
  },
  {
   "cell_type": "markdown",
   "id": "b6ef16eb-f2c6-441e-ac9a-05d651d14e77",
   "metadata": {},
   "source": [
    "## (i) A ⋂ B\n",
    "The intersection of A and B is (2, 6)\n",
    "\n",
    "## (ii) A ⋃ B\n",
    "The union of A and B is (0, 2, 3, 4, 5, 6, 7, 8, 10)"
   ]
  },
  {
   "cell_type": "markdown",
   "id": "c263f088-51c3-4ad2-95ca-b1a90d6f46f0",
   "metadata": {},
   "source": [
    "# Q8. What do you understand about skewness in data?"
   ]
  },
  {
   "cell_type": "markdown",
   "id": "0f185622-5cd8-4124-a5ac-4b030bed8a25",
   "metadata": {},
   "source": [
    "Skewness in data is a measure of the asymmetry of the probability distribution of a random variable. In simpler terms, it refers to the degree to which a dataset is not symmetrical. A perfectly symmetrical dataset has zero skewness, while a dataset that is skewed to the left or right has negative or positive skewness, respectively. Skewness can affect various statistical analyses, such as the mean and standard deviation, and it is important to consider when interpreting the results of data analysis."
   ]
  },
  {
   "cell_type": "markdown",
   "id": "2ccac5da-b947-4997-a54a-43a746534523",
   "metadata": {},
   "source": [
    "# Q9. If a data is right skewed then what will be the position of median with respect to mean?"
   ]
  },
  {
   "cell_type": "markdown",
   "id": "05b192f3-2fd0-488d-b9a9-2e84ce1e1ba7",
   "metadata": {},
   "source": [
    "If a data is right skewed, then the median will be less than the mean."
   ]
  },
  {
   "cell_type": "markdown",
   "id": "10532e82-bb47-4683-a0b7-357985051d22",
   "metadata": {},
   "source": [
    "# Q10. Explain the difference between covariance and correlation. How are these measures used in statistical analysis?"
   ]
  },
  {
   "cell_type": "markdown",
   "id": "76afa7b5-f2bc-4500-aa1c-9273ed75c4f0",
   "metadata": {},
   "source": [
    "Covariance and correlation are two statistical measures that are used to quantify the relationship between two variables.\n",
    "\n",
    "* Covariance is a measure of how two variables vary together. It measures the strength and direction of the linear relationship between two variables. A positive covariance indicates that the two variables are positively related, while a negative covariance indicates that the two variables are negatively related. A covariance of zero indicates that the two variables are not related. However, covariance does not provide information about the strength of the relationship between the variables, as it is influenced by the scale of the variables.\n",
    "\n",
    "* Correlation, on the other hand, is a standardized measure of the relationship between two variables. It measures the strength and direction of the linear relationship between two variables on a scale ranging from -1 to +1. A correlation of +1 indicates a perfect positive linear relationship, a correlation of -1 indicates a perfect negative linear relationship, and a correlation of 0 indicates no linear relationship. Correlation is not influenced by the scale of the variables and is therefore a more useful measure of the strength of the relationship between the variables.\n",
    "\n",
    "Both covariance and correlation are used in statistical analysis to study the relationship between two variables. They are commonly used in regression analysis, where the relationship between a dependent variable and one or more independent variables is studied. Correlation is also used to assess the strength of association between two variables in bivariate analysis."
   ]
  },
  {
   "cell_type": "markdown",
   "id": "f5716084-8d2a-4759-b5e4-b0b5672b2c39",
   "metadata": {},
   "source": [
    "# Q11. What is the formula for calculating the sample mean? Provide an example calculation for a dataset."
   ]
  },
  {
   "cell_type": "markdown",
   "id": "cd9f2bdd-2082-47ce-83f3-66e6ff8b078f",
   "metadata": {},
   "source": [
    "The formula for calculating the sample mean is:\n",
    "\n",
    "* sample mean = (sum of all values in the dataset) / (number of values in the dataset)\n",
    "\n",
    "* For example, consider the following dataset:\n",
    "\n",
    "*  3, 6, 9, 12, 15\n",
    "\n",
    "* To calculate the sample mean of this dataset, we first add up all the values:\n",
    "\n",
    "* 3 + 6 + 9 + 12 + 15 = 45\n",
    "\n",
    "* There are 5 values in the dataset, so we divide the sum by 5 to get:\n",
    "\n",
    "* sample mean = 45 / 5 = 9\n",
    "\n",
    "Therefore, the sample mean of this dataset is 9."
   ]
  },
  {
   "cell_type": "markdown",
   "id": "9e99a791-53e8-4deb-888b-c7665a5834e9",
   "metadata": {},
   "source": [
    "# Q12. For a normal distribution data what is the relationship between its measure of central tendency?"
   ]
  },
  {
   "cell_type": "markdown",
   "id": "a9fb20b7-db74-49f9-ab7e-12c80ea099ea",
   "metadata": {},
   "source": [
    "For a normal distribution, the mean, median, and mode are equal to each other. In other words, the measure of central tendency, mean, median, and mode are all at the center of the distribution, and they are symmetrically distributed around the center. This is because the normal distribution is a bell-shaped curve, and its symmetry ensures that the mean, median, and mode coincide at the center."
   ]
  },
  {
   "cell_type": "markdown",
   "id": "a5cff678-4a71-44f4-b023-233db5428a16",
   "metadata": {},
   "source": [
    "# Q13. How is covariance different from correlation?"
   ]
  },
  {
   "cell_type": "markdown",
   "id": "d012349a-3eaf-4a8e-a8f1-3974704d2387",
   "metadata": {},
   "source": [
    "Covariance and correlation are two measures of the relationship between two variables in a dataset.\n",
    "\n",
    "* Covariance measures how much two variables vary together. It is a measure of how much two variables change together. If two variables have a positive covariance, it means that they tend to increase or decrease together. If two variables have a negative covariance, it means that they tend to move in opposite directions. However, covariance does not give information about the strength and direction of the relationship.\n",
    "\n",
    "* On the other hand, correlation measures both the strength and direction of the linear relationship between two variables. Correlation is a standardized form of covariance, which scales the covariance by the product of the standard deviations of the two variables. Correlation values range between -1 and 1, where a value of 1 means a perfect positive linear relationship, a value of -1 means a perfect negative linear relationship, and a value of 0 means no linear relationship.\n",
    "\n",
    "In summary, covariance and correlation both measure the relationship between two variables, but correlation provides more information about the strength and direction of the relationship."
   ]
  },
  {
   "cell_type": "markdown",
   "id": "2e0a3ad7-9c44-4ea9-bac9-4689d7728292",
   "metadata": {},
   "source": [
    "# Q14. How do outliers affect measures of central tendency and dispersion? Provide an example."
   ]
  },
  {
   "cell_type": "markdown",
   "id": "8e08134f-f3f4-4524-9f70-9cdbd6ac07d2",
   "metadata": {},
   "source": [
    "Outliers can significantly affect measures of central tendency and dispersion. Central tendency measures such as the mean can be heavily influenced by outliers, pulling the value towards the extreme end of the distribution. On the other hand, median is more robust to outliers as it is less affected by extreme values.\n",
    "\n",
    "Similarly, outliers can also affect measures of dispersion such as variance and standard deviation. Outliers can increase the value of these measures, suggesting a higher degree of variability in the data than actually exists.\n",
    "\n",
    "For example, consider a dataset of the salaries of employees in a company:\n",
    "$[25,000, 30,000, 32,000, 33,000, 35,000, 37,000, 39,000, 40,000, 42,000, 45,000, 100,000]$\n",
    "Here, the outlier value of 100,000 will pull the mean towards the higher end of the distribution, giving an inaccurate representation of the central tendency. Similarly, the outlier will increase the value of the standard deviation, suggesting more variability in the data than actually exists."
   ]
  }
 ],
 "metadata": {
  "kernelspec": {
   "display_name": "Python 3 (ipykernel)",
   "language": "python",
   "name": "python3"
  },
  "language_info": {
   "codemirror_mode": {
    "name": "ipython",
    "version": 3
   },
   "file_extension": ".py",
   "mimetype": "text/x-python",
   "name": "python",
   "nbconvert_exporter": "python",
   "pygments_lexer": "ipython3",
   "version": "3.10.8"
  }
 },
 "nbformat": 4,
 "nbformat_minor": 5
}
