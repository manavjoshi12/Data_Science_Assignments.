{
 "cells": [
  {
   "cell_type": "markdown",
   "id": "134f6bd8-ae25-4e8a-a276-337a693e1654",
   "metadata": {},
   "source": [
    "# Q1. What is an Exception in Python? write the difference between Exceptions ans Syntax errors."
   ]
  },
  {
   "cell_type": "markdown",
   "id": "8d89d3a4-e46d-47db-88a1-b08c14c679ef",
   "metadata": {},
   "source": [
    "In Python, an exception is an event that occurs during the execution of a program that disrupts the normal flow of instructions. When an exception occurs, the program execution is immediately halted, and the control is transferred to an exception handler.\n",
    "\n",
    "Exceptions in Python are objects that represent errors or exceptional conditions. They are used to handle and manage unexpected or exceptional situations that may occur during the execution of a program.\n",
    "\n",
    "Here are some key points about exceptions in Python:\n",
    "\n",
    "* Exception Handling: Exception handling is the process of dealing with exceptions that occur during program execution. It allows the program to handle errors gracefully and continue its execution instead of abruptly terminating.\n",
    "\n",
    "* Types of Exceptions: Python provides a variety of built-in exception classes for handling different types of errors or exceptional situations. Some common exception types include TypeError, ValueError, FileNotFoundError, IndexError, KeyError, and ZeroDivisionError, among others.\n",
    "\n",
    "* Exception Handling Mechanism: The exception handling mechanism in Python involves the use of the try, except, else, and finally blocks. The try block is used to enclose the code that may raise an exception. The except block is used to catch and handle specific exceptions. The else block is executed if no exceptions occur. The finally block is executed regardless of whether an exception occurred or not.\n",
    "\n",
    "* Raising Exceptions: In addition to handling built-in exceptions, you can also raise your own exceptions using the raise statement. This allows you to create custom exceptions to handle specific scenarios or errors in your program.\n",
    "\n",
    "* Difference between Exceptions and Syntax Errors: Exceptions occur during the runtime of a program when an error or exceptional condition is encountered. Syntax errors, on the other hand, occur during the parsing or interpretation of the code when there is a violation of the language syntax rules. Syntax errors are typically detected before the program is executed and need to be fixed in the code.\n",
    "\n",
    "In summary, exceptions in Python are used to handle and manage errors or exceptional situations that occur during program execution. They provide a mechanism to gracefully handle errors, recover from exceptional conditions, and ensure the smooth execution of the program."
   ]
  },
  {
   "cell_type": "markdown",
   "id": "f3b11ae9-2e86-4a0e-8468-01b6aa2784b2",
   "metadata": {},
   "source": [
    "# Q2. what happens when an exception is not handled? Explain with an example."
   ]
  },
  {
   "cell_type": "markdown",
   "id": "3efc28fc-ec10-4cec-b1f7-4cf4a686c932",
   "metadata": {},
   "source": [
    "When an exception is not handled in a program, it results in the termination of the program and an error message is displayed. This abrupt termination occurs because the exception propagates up the call stack until it reaches the top-level of the program, where there is no exception handler to catch and handle it.\n",
    "\n",
    "Here's an example to illustrate what happens when an exception is not handled:"
   ]
  },
  {
   "cell_type": "code",
   "execution_count": null,
   "id": "71f65671-fab4-4a7e-8ac6-a691fd2c57cc",
   "metadata": {},
   "outputs": [],
   "source": [
    "def divide_numbers(a, b):\n",
    "    result = a / b\n",
    "    return result\n",
    "\n",
    "# Main program\n",
    "num1 = 10\n",
    "num2 = 0\n",
    "\n",
    "result = divide_numbers(num1, num2)\n",
    "print(\"Result:\", result)\n",
    "\n",
    "# ZeroDivisionError: division by zero"
   ]
  },
  {
   "cell_type": "markdown",
   "id": "f82e10b7-b07f-4bd2-900d-5c096ff16d56",
   "metadata": {},
   "source": [
    "# Q3. Which python statements used to catch and handle exceptions? Explain with an example."
   ]
  },
  {
   "cell_type": "markdown",
   "id": "f301b774-cb15-4488-9f73-ee1e47392a4e",
   "metadata": {},
   "source": [
    "In Python, the try and except statements are used to catch and handle exceptions. The try block is used to enclose the code that may raise an exception, and the except block is used to specify the actions to be taken when a specific exception occurs.\n",
    "\n",
    "Here's an example to demonstrate the usage of try and except statements:"
   ]
  },
  {
   "cell_type": "code",
   "execution_count": 2,
   "id": "01ee2db4-8855-47be-bbd8-f9e148e432c0",
   "metadata": {},
   "outputs": [
    {
     "name": "stdout",
     "output_type": "stream",
     "text": [
      "Error: Division by zero is not allowed!\n"
     ]
    }
   ],
   "source": [
    "def divide_numbers(a, b):\n",
    "    try:\n",
    "        result = a / b\n",
    "        print(\"Result:\", result)\n",
    "    except ZeroDivisionError:\n",
    "        print(\"Error: Division by zero is not allowed!\")\n",
    "\n",
    "# Main program\n",
    "num1 = 10\n",
    "num2 = 0\n",
    "\n",
    "divide_numbers(num1, num2)\n"
   ]
  },
  {
   "cell_type": "markdown",
   "id": "52db3df2-1bb8-43ee-8d67-d23db9b50dd0",
   "metadata": {},
   "source": [
    "# Q4. Explain with an example:\n",
    "a. try and else\n",
    "b. finally\n",
    "c. raise"
   ]
  },
  {
   "cell_type": "markdown",
   "id": "2d8c66b7-fdc0-4d71-8c47-51b650d59a89",
   "metadata": {},
   "source": [
    "a. try and else:\n",
    "The else block in Python is used in conjunction with the try block to specify the code that should be executed if no exceptions occur. It provides a way to define a block of code that will run only if the try block does not raise any exceptions.\n",
    "\n",
    "Here's an example to illustrate the usage of try, except, and else:"
   ]
  },
  {
   "cell_type": "code",
   "execution_count": 3,
   "id": "d64b7fc5-044b-45a2-b592-026244a044b5",
   "metadata": {},
   "outputs": [
    {
     "name": "stdout",
     "output_type": "stream",
     "text": [
      "Result: 5.0\n"
     ]
    }
   ],
   "source": [
    "def divide_numbers(a, b):\n",
    "    try:\n",
    "        result = a / b\n",
    "    except ZeroDivisionError:\n",
    "        print(\"Error: Division by zero is not allowed!\")\n",
    "    else:\n",
    "        print(\"Result:\", result)\n",
    "\n",
    "# Main program\n",
    "num1 = 10\n",
    "num2 = 2\n",
    "\n",
    "divide_numbers(num1, num2)\n"
   ]
  },
  {
   "cell_type": "markdown",
   "id": "1b9b60bf-70e2-4f1a-b47c-7dc989e4fa19",
   "metadata": {},
   "source": [
    "b. finally:\n",
    "The finally block in Python is used to define a block of code that will always execute, regardless of whether an exception occurs or not. It is generally used to perform cleanup actions or release resources, such as closing a file or releasing a database connection.\n",
    "\n",
    "Here's an example to demonstrate the usage of try, except, and finally:"
   ]
  },
  {
   "cell_type": "code",
   "execution_count": 4,
   "id": "7b2b2e13-a53e-4383-a665-486090d7eba0",
   "metadata": {},
   "outputs": [
    {
     "name": "stdout",
     "output_type": "stream",
     "text": [
      "Error: Division by zero is not allowed!\n",
      "Division operation completed.\n"
     ]
    }
   ],
   "source": [
    "def divide_numbers(a, b):\n",
    "    try:\n",
    "        result = a / b\n",
    "        print(\"Result:\", result)\n",
    "    except ZeroDivisionError:\n",
    "        print(\"Error: Division by zero is not allowed!\")\n",
    "    finally:\n",
    "        print(\"Division operation completed.\")\n",
    "\n",
    "# Main program\n",
    "num1 = 10\n",
    "num2 = 0\n",
    "\n",
    "divide_numbers(num1, num2)\n"
   ]
  },
  {
   "cell_type": "markdown",
   "id": "b8983eb9-7cab-4368-918a-dd7b2fa19220",
   "metadata": {},
   "source": [
    "c. raise:\n",
    "The raise keyword in Python is used to explicitly raise an exception. It allows you to create custom exceptions or raise built-in exceptions based on certain conditions or criteria.\n",
    "\n",
    "Here's an example to demonstrate the usage of raise:"
   ]
  },
  {
   "cell_type": "code",
   "execution_count": 5,
   "id": "3abe6ff4-65b8-422f-80f6-832af13ebf5d",
   "metadata": {},
   "outputs": [
    {
     "name": "stdout",
     "output_type": "stream",
     "text": [
      "Invalid age. Age must be greater than or equal to 18.\n"
     ]
    }
   ],
   "source": [
    "def check_age(age):\n",
    "    if age < 18:\n",
    "        raise ValueError(\"Invalid age. Age must be greater than or equal to 18.\")\n",
    "    else:\n",
    "        print(\"Age is valid.\")\n",
    "\n",
    "# Main program\n",
    "age = 15\n",
    "\n",
    "try:\n",
    "    check_age(age)\n",
    "except ValueError as e:\n",
    "    print(str(e))\n"
   ]
  },
  {
   "cell_type": "markdown",
   "id": "edd9eb11-3900-4502-896f-467d1e0993aa",
   "metadata": {},
   "source": [
    "# Q5. What are Custom Exceptions in Python? Why do we need Custom Exceptions? Expalin with an example."
   ]
  },
  {
   "cell_type": "markdown",
   "id": "58d52556-e294-461f-813b-c58f1519b493",
   "metadata": {},
   "source": [
    "Custom exceptions in Python are user-defined exceptions that allow you to create your own exception classes based on specific requirements or scenarios. These exceptions can be raised and handled like built-in exceptions in Python.\n",
    "\n",
    "We need custom exceptions in Python to handle specific error conditions that may arise in our programs. By creating custom exceptions, we can provide more meaningful and descriptive error messages to users, and handle exceptional situations in a more structured and organized manner.\n",
    "\n",
    "Here's a short and simple example that demonstrates the use of a custom exception:"
   ]
  },
  {
   "cell_type": "code",
   "execution_count": 6,
   "id": "80d2a4c8-f8e9-4610-9f0d-76288962c888",
   "metadata": {},
   "outputs": [
    {
     "name": "stdout",
     "output_type": "stream",
     "text": [
      "Error: Input cannot be a negative number.\n"
     ]
    }
   ],
   "source": [
    "class InvalidInputError(Exception):\n",
    "    pass\n",
    "\n",
    "\n",
    "def calculate_square_root(number):\n",
    "    if number < 0:\n",
    "        raise InvalidInputError(\"Input cannot be a negative number.\")\n",
    "    else:\n",
    "        return number ** 0.5\n",
    "\n",
    "\n",
    "# Main program\n",
    "try:\n",
    "    result = calculate_square_root(-9)\n",
    "    print(\"Square root:\", result)\n",
    "except InvalidInputError as e:\n",
    "    print(\"Error:\", str(e))\n"
   ]
  },
  {
   "cell_type": "markdown",
   "id": "cee1bdc7-5f3b-4820-9703-fcc081bbc20d",
   "metadata": {},
   "source": [
    "# Q6. Create a custom exception class. Use this class to handle exception."
   ]
  },
  {
   "cell_type": "code",
   "execution_count": 7,
   "id": "01688e3b-7a80-464d-87c6-e8c16e72e772",
   "metadata": {},
   "outputs": [
    {
     "name": "stdout",
     "output_type": "stream",
     "text": [
      "You bought 3 'Apple'.\n",
      "Error: Sorry, 'Orange' is out of stock.\n"
     ]
    }
   ],
   "source": [
    "class OutOfStockError(Exception):\n",
    "    pass\n",
    "\n",
    "\n",
    "def buy_item(item, quantity, stock):\n",
    "    if quantity > stock:\n",
    "        raise OutOfStockError(f\"Sorry, '{item}' is out of stock.\")\n",
    "    else:\n",
    "        print(f\"You bought {quantity} '{item}'.\")\n",
    "\n",
    "\n",
    "# Main program\n",
    "stock = 5\n",
    "try:\n",
    "    buy_item(\"Apple\", 3, stock)\n",
    "    buy_item(\"Orange\", 7, stock)\n",
    "except OutOfStockError as e:\n",
    "    print(\"Error:\", str(e))\n"
   ]
  }
 ],
 "metadata": {
  "kernelspec": {
   "display_name": "Python 3 (ipykernel)",
   "language": "python",
   "name": "python3"
  },
  "language_info": {
   "codemirror_mode": {
    "name": "ipython",
    "version": 3
   },
   "file_extension": ".py",
   "mimetype": "text/x-python",
   "name": "python",
   "nbconvert_exporter": "python",
   "pygments_lexer": "ipython3",
   "version": "3.10.8"
  }
 },
 "nbformat": 4,
 "nbformat_minor": 5
}
