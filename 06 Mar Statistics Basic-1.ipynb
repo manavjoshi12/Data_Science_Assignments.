{
 "cells": [
  {
   "cell_type": "markdown",
   "id": "6759467e-0381-4f7e-b820-218aecb773b9",
   "metadata": {},
   "source": [
    "# Statistics Basic-1"
   ]
  },
  {
   "cell_type": "markdown",
   "id": "5ef273b6-2c77-4bfc-8e0e-e4802e1a8fc7",
   "metadata": {},
   "source": [
    "# Q1. What is Statistics?"
   ]
  },
  {
   "cell_type": "markdown",
   "id": "4d4616b0-8b3c-436c-a236-cacddcd2ffd9",
   "metadata": {},
   "source": [
    "Statistics is a branch of mathematics that deals with the collection, analysis, interpretation, presentation, and organization of data. It provides tools and methods for summarizing and analyzing data, making decisions based on data, and making predictions about future outcomes. Statistics is used in many fields, including science, engineering, economics, business, social sciences, and medicine, to name a few. The goal of statistics is to extract useful information from data and make sense of it in a meaningful way."
   ]
  },
  {
   "cell_type": "markdown",
   "id": "4a028e95-480c-4e3f-b104-d4daa2e868f2",
   "metadata": {},
   "source": [
    "# Q2. Define the different types of statistics and give an example of when each type might be used."
   ]
  },
  {
   "cell_type": "markdown",
   "id": "e80125cd-6883-4ab8-9fa8-626d76da9455",
   "metadata": {},
   "source": [
    "There are two main types of statistics: descriptive statistics and inferential statistics.\n",
    "\n",
    "* Descriptive Statistics: Descriptive statistics are used to summarize and describe a set of data. They provide information about the central tendency, variability, and distribution of the data. Some common measures of descriptive statistics include mean, median, mode, range, variance, and standard deviation. These statistics are useful when you want to gain insights and understand the characteristics of a given dataset.\n",
    "For example, if you have a dataset containing the heights of a group of people, you might use descriptive statistics to calculate the mean height, the range of heights, and the standard deviation of the heights to understand the distribution of the heights in the group.\n",
    "\n",
    "* Inferential Statistics: Inferential statistics are used to make inferences and draw conclusions about a larger population based on a sample of data. They allow us to test hypotheses and make predictions about the population based on the data we have. Some common inferential statistics include t-tests, ANOVA, regression analysis, and correlation analysis.\n",
    "For example, if you want to test whether a new drug is effective in treating a particular disease, you might conduct a randomized controlled trial with a sample of patients and use inferential statistics to determine whether the results of the trial are statistically significant and whether the drug is effective for the larger population of patients with the disease."
   ]
  },
  {
   "cell_type": "markdown",
   "id": "d7bf62d5-1e2a-461a-89d8-293c42bddfd8",
   "metadata": {},
   "source": [
    "# Q3. What are the different types of data and how do they differ from each other? Provide an example of each type of data."
   ]
  },
  {
   "cell_type": "markdown",
   "id": "917761a6-82ce-454b-8fc8-2392f3679172",
   "metadata": {},
   "source": [
    "In statistics, there are four main types of data: nominal, ordinal, interval, and ratio. The differences between them are as follows:\n",
    "\n",
    "* Nominal data: This type of data is used to label variables without providing any numerical value or order. Examples of nominal data include gender (male/female), colors (red/blue/green), or types of fruits (apple/banana/orange).\n",
    "\n",
    "* Ordinal data: This type of data is used to label variables with a specific order or ranking. However, the differences between the values cannot be determined or are meaningless. Examples of ordinal data include education level (elementary/middle/high school), movie ratings (G/PG/PG-13/R), or level of agreement (strongly agree/agree/disagree/strongly disagree).\n",
    "\n",
    "* Interval data: This type of data has numerical values that are equally spaced apart, but there is no true zero point. This means that ratios cannot be calculated between values. Examples of interval data include temperature (measured in Celsius or Fahrenheit), dates (measured in days or years), or time (measured in hours or minutes).\n",
    "\n",
    "* Ratio data: This type of data is similar to interval data, but there is a true zero point, and ratios can be calculated between values. Examples of ratio data include weight, height, length, and time in seconds.\n",
    "\n",
    "Note that the type of data can determine the appropriate statistical tests and analysis to use."
   ]
  },
  {
   "cell_type": "markdown",
   "id": "45f976ca-d8c4-4543-a3c0-efb942e8b6f0",
   "metadata": {},
   "source": [
    "# Q4. Categorise the following datasets with respect to quantitative and qualitative data types:"
   ]
  },
  {
   "cell_type": "markdown",
   "id": "c9c36966-7aac-426c-8151-7bdd3b035baa",
   "metadata": {},
   "source": [
    "(i) Grading in exam: A+, A, B+, B, C+, C, D, E\n",
    "(ii) Colour of mangoes: yellow, green, orange, red\n",
    "(iii) Height data of a class: [178.9, 179, 179.5, 176, 177.2, 178.3, 175.8,...]\n",
    "(iv) Number of mangoes exported by a farm: [500, 600, 478, 672, ...]"
   ]
  },
  {
   "cell_type": "markdown",
   "id": "64624b57-43e1-4910-acf8-ca6b48955c5b",
   "metadata": {},
   "source": [
    "Quantitative :\n",
    "(iii) Height data of a class: [178.9, 179, 179.5, 176, 177.2, 178.3, 175.8,...]\n",
    "(iv) Number of mangoes exported by a farm: [500, 600, 478, 672, ...]"
   ]
  },
  {
   "cell_type": "markdown",
   "id": "0de3b21f-ae83-4bda-8377-d50a0bfa0d87",
   "metadata": {},
   "source": [
    "Qualitative :\n",
    "(i) Grading in exam: A+, A, B+, B, C+, C, D, E\n",
    "(ii) Colour of mangoes: yellow, green, orange, red"
   ]
  },
  {
   "cell_type": "markdown",
   "id": "fc285689-207a-4fa7-bd82-375fb8749a59",
   "metadata": {},
   "source": [
    "# Q5. Explain the concept of levels of measurement and give an example of a variable for each level."
   ]
  },
  {
   "cell_type": "markdown",
   "id": "0b20947b-a45b-4ffe-bc37-60b456c58f3d",
   "metadata": {},
   "source": [
    "The levels of measurement, also known as scales of measurement, refer to the types of data that can be collected and analyzed. There are four commonly recognized levels of measurement: nominal, ordinal, interval, and ratio.\n",
    "\n",
    "* Nominal level of measurement: This is the lowest level of measurement, where data can only be categorized and cannot be ordered or measured in any meaningful way. Examples of variables at the nominal level include gender (male, female), eye color (blue, green, brown), and race (Caucasian, African American, Hispanic, etc.).\n",
    "\n",
    "* Ordinal level of measurement: In this level of measurement, data can be ordered but the differences between values cannot be measured. Examples of variables at the ordinal level include rating scales (poor, fair, good, excellent), educational attainment (high school, some college, college degree), and socioeconomic status (low, middle, high).\n",
    "\n",
    "* Interval level of measurement: In this level of measurement, data can be ordered, and the differences between values can be measured. However, there is no true zero point. Examples of variables at the interval level include temperature (degrees Celsius or Fahrenheit), time (hours, minutes, seconds), and IQ scores.\n",
    "\n",
    "* Ratio level of measurement: This is the highest level of measurement, where data can be ordered, the differences between values can be measured, and there is a true zero point. Examples of variables at the ratio level include height (inches or centimeters), weight (pounds or kilograms), and income (dollars).\n",
    "\n",
    "Overall, the level of measurement for a variable determines what statistical analyses can be used on the data, and how the data can be interpreted."
   ]
  },
  {
   "cell_type": "markdown",
   "id": "ff442b05-d40d-4b1a-9386-24ca34cbccf2",
   "metadata": {},
   "source": [
    "# Q6. Why is it important to understand the level of measurement when analyzing data? Provide an example to illustrate your answer."
   ]
  },
  {
   "cell_type": "markdown",
   "id": "b22539f3-9689-449f-95b9-4f00c306ebcd",
   "metadata": {},
   "source": [
    "Understanding the level of measurement is essential when analyzing data because it helps determine the appropriate statistical analysis and techniques that can be applied to the data. Different levels of measurement have different properties and limitations, which can affect the statistical inferences that can be made from the data.\n",
    "\n",
    "For example, consider a study that measures the amount of time spent studying per day among high school students. If the data is nominal, meaning the levels of measurement are categorical, such as \"never\", \"rarely\", \"sometimes\", \"often\", or \"always\", then it would not be appropriate to use techniques that require numerical values, such as computing the mean or correlation coefficients. Instead, appropriate statistical methods for categorical data, such as contingency tables or chi-squared tests, should be used.\n",
    "\n",
    "On the other hand, if the data is interval or ratio, such as measuring the number of hours spent studying, then more advanced statistical methods can be applied, such as regression analysis or hypothesis testing.\n",
    "\n",
    "Therefore, understanding the level of measurement of data is crucial to ensure that appropriate statistical techniques are applied, and valid inferences can be drawn from the data."
   ]
  },
  {
   "cell_type": "markdown",
   "id": "c0b34113-d68a-4e0c-860c-28bf9b922cb7",
   "metadata": {},
   "source": [
    "# Q7. How nominal data type is different from ordinal data type."
   ]
  },
  {
   "cell_type": "markdown",
   "id": "7e1f13a4-0c94-47a7-9f1a-6dd214447ed8",
   "metadata": {},
   "source": [
    "Nominal and ordinal are two different types of categorical data. Nominal data refers to data that is categorical but has no inherent order or ranking. For example, gender, eye color, or favorite food are nominal variables. Ordinal data, on the other hand, is categorical data with an inherent order or ranking. For example, grades (A, B, C, D, E), customer satisfaction ratings (very satisfied, satisfied, neutral, dissatisfied, very dissatisfied), or level of education (high school, associate’s degree, bachelor’s degree, master’s degree, Ph.D.) are all examples of ordinal variables.\n",
    "\n",
    "The main difference between nominal and ordinal data is that nominal data has no inherent order or ranking, whereas ordinal data does. This means that with ordinal data, we can rank the values in order of importance or preference, whereas with nominal data, we cannot. For example, we can say that a student with an A grade has performed better than a student with a B grade, but we cannot say that the student with an A grade is better than the student who likes pizza more than sushi.\n",
    "\n",
    "Understanding the difference between nominal and ordinal data is important because it affects the types of statistical analyses that can be used. For example, it is not appropriate to calculate the mean or median of nominal data because there is no inherent order to the categories. Instead, we use frequency tables, contingency tables, and chi-squared tests to analyze nominal data. For ordinal data, we can calculate the median or use non-parametric tests such as the Wilcoxon rank-sum test to compare the distributions of two groups."
   ]
  },
  {
   "cell_type": "markdown",
   "id": "e219f05e-a5a2-48ac-9c6f-edcaf2d26ad7",
   "metadata": {},
   "source": [
    "# Q8. Which type of plot can be used to display data in terms of range?"
   ]
  },
  {
   "cell_type": "markdown",
   "id": "7ac3a3ec-5e34-4102-afbe-b787f7e488ed",
   "metadata": {},
   "source": [
    "A box plot can be used to display data in terms of range."
   ]
  },
  {
   "cell_type": "markdown",
   "id": "3550d7c9-0223-438c-89da-86df0fde7a0f",
   "metadata": {},
   "source": [
    "# Q9. Describe the difference between descriptive and inferential statistics. Give an example of each type of statistics and explain how they are used."
   ]
  },
  {
   "cell_type": "markdown",
   "id": "da19c31b-586b-4a51-9f7a-ff1d1c42e275",
   "metadata": {},
   "source": [
    "Descriptive statistics and inferential statistics are two branches of statistics that are used to analyze and interpret data.\n",
    "\n",
    "* Descriptive statistics are used to summarize and describe the main features of a dataset, such as its central tendency, variability, and shape. They are used to give a basic understanding of the data without making any inferences or generalizations beyond the data itself. Examples of descriptive statistics include measures like mean, median, mode, standard deviation, range, and quartiles.\n",
    "\n",
    "* Inferential statistics, on the other hand, are used to make generalizations and draw conclusions about a larger population based on a sample of data. They involve using probability theory to make predictions or hypotheses about the population based on the characteristics of the sample. Inferential statistics can help determine whether a difference or relationship observed in the sample is likely to be true of the population as a whole. Examples of inferential statistics include hypothesis testing, confidence intervals, and regression analysis.\n",
    "\n",
    "For example, a study might use descriptive statistics to describe the demographics of a sample population, such as the mean age or income. Inferential statistics could then be used to draw conclusions about the larger population, such as whether there are significant differences between different age groups or income levels."
   ]
  },
  {
   "cell_type": "markdown",
   "id": "2679a4af-710d-4685-92b9-7d89d6e48ac8",
   "metadata": {},
   "source": [
    "# Q10. What are some common measures of central tendency and variability used in statistics? Explain how each measure can be used to describe a dataset."
   ]
  },
  {
   "cell_type": "markdown",
   "id": "aa41b8f8-e573-496d-8d99-3c2c596ec03d",
   "metadata": {},
   "source": [
    "Some common measures of central tendency in statistics are mean, median, and mode.\n",
    "\n",
    "* The mean is the arithmetic average of a dataset and is calculated by summing all the values in the dataset and dividing by the total number of values. The mean is a useful measure of central tendency when the data is normally distributed.\n",
    "\n",
    "* The median is the middle value in a dataset when the values are ordered from smallest to largest. The median is useful when the dataset has outliers or extreme values, as it is less sensitive to these values than the mean.\n",
    "\n",
    "* The mode is the most frequently occurring value in a dataset. The mode is useful when the dataset has discrete values and is used to describe the most common value in the dataset.\n",
    "\n",
    "Some common measures of variability in statistics are range, variance, and standard deviation.\n",
    "\n",
    "* The range is the difference between the maximum and minimum values in a dataset. The range provides a rough estimate of the spread of the data.\n",
    "\n",
    "* The variance is a measure of how spread out the data is relative to the mean. It is calculated by taking the sum of the squared differences between each value and the mean, and dividing by the total number of values. A high variance indicates that the data is spread out, while a low variance indicates that the data is clustered around the mean.\n",
    "\n",
    "* The standard deviation is the square root of the variance and is a more commonly used measure of variability than variance because it is on the same scale as the original data. The standard deviation provides a measure of how much the data deviates from the mean. A high standard deviation indicates that the data is spread out, while a low standard deviation indicates that the data is clustered around the mean."
   ]
  }
 ],
 "metadata": {
  "kernelspec": {
   "display_name": "Python 3 (ipykernel)",
   "language": "python",
   "name": "python3"
  },
  "language_info": {
   "codemirror_mode": {
    "name": "ipython",
    "version": 3
   },
   "file_extension": ".py",
   "mimetype": "text/x-python",
   "name": "python",
   "nbconvert_exporter": "python",
   "pygments_lexer": "ipython3",
   "version": "3.10.8"
  }
 },
 "nbformat": 4,
 "nbformat_minor": 5
}
