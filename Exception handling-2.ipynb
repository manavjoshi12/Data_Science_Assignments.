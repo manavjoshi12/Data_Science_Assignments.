{
 "cells": [
  {
   "cell_type": "markdown",
   "id": "8d45cf19-86cf-4b2e-93c5-df7a7450803c",
   "metadata": {},
   "source": [
    "# Q1. Explain why we have to use the Exception class while creating a Custom Exception.\n",
    "Note: Here Exception class refers to the base class for all the exceptions."
   ]
  },
  {
   "cell_type": "markdown",
   "id": "226497e6-4aef-43bb-9998-9e23bcf921a0",
   "metadata": {},
   "source": [
    "The Exception class in Python is the base class for all built-in exceptions. When creating a custom exception, it is recommended to inherit from the Exception class or one of its subclasses. Here are a few reasons why we use the Exception class as the base class for custom exceptions:\n",
    "\n",
    "* Consistency and Compatibility: Inheriting from the Exception class ensures that our custom exception is compatible with the existing exception handling mechanisms in Python. It allows us to catch and handle our custom exception using the same exception handling syntax (try-except) that is used for built-in exceptions.\n",
    "\n",
    "* Hierarchy and Specialization: The exception hierarchy in Python is structured, with more specific exception classes inheriting from more general ones. By inheriting from the Exception class, our custom exception becomes part of this hierarchy and can be used in a similar way to other exceptions. It allows us to catch our custom exception specifically or handle it along with other related exceptions.\n",
    "\n",
    "* Behavior and Attributes: The Exception class provides certain behaviors and attributes that are useful for handling and processing exceptions. By inheriting from the Exception class, our custom exception can inherit and utilize these behaviors and attributes. For example, we can define custom methods or properties specific to our exception class.\n",
    "\n",
    "Overall, using the Exception class as the base class for custom exceptions ensures consistency, compatibility, and allows our custom exceptions to integrate well with the existing exception handling infrastructure in Python."
   ]
  },
  {
   "cell_type": "markdown",
   "id": "642be0e0-3d89-42d9-9e99-3665a0219d2d",
   "metadata": {},
   "source": [
    "# Q2. Write a python program to print Python Exception Hierarchy."
   ]
  },
  {
   "cell_type": "code",
   "execution_count": null,
   "id": "e58318b1-47fe-448b-bd84-fd2c7f34a10c",
   "metadata": {},
   "outputs": [],
   "source": [
    "def print_exception_hierarchy(exception_cls, indent=0):\n",
    "    print(' ' * indent + exception_cls.__name__)\n",
    "    for subclass in exception_cls.__subclasses__():\n",
    "        print_exception_hierarchy(subclass, indent + 4)\n",
    "\n",
    "# Print the exception hierarchy starting from the base Exception class\n",
    "print_exception_hierarchy(Exception)\n"
   ]
  },
  {
   "cell_type": "markdown",
   "id": "56b643a7-c04e-4f72-81f8-067456e28b65",
   "metadata": {},
   "source": [
    "# Q3. What errors are defined in the ArithmeticError class? Explain any two with an example."
   ]
  },
  {
   "cell_type": "markdown",
   "id": "3bb3db48-398f-4758-bc9a-13bc8462a1f8",
   "metadata": {},
   "source": [
    "The ArithmeticError class in Python is the base class for arithmetic-related errors. It represents errors that occur during arithmetic operations. Here are two commonly used errors defined in the ArithmeticError class:\n",
    "\n",
    "* ZeroDivisionError: This error is raised when attempting to divide a number by zero."
   ]
  },
  {
   "cell_type": "code",
   "execution_count": 2,
   "id": "46494311-8c60-4aa0-95a7-02d3ef9c6ffb",
   "metadata": {},
   "outputs": [
    {
     "name": "stdout",
     "output_type": "stream",
     "text": [
      "Error: division by zero\n"
     ]
    }
   ],
   "source": [
    "try:\n",
    "    result = 10 / 0\n",
    "except ZeroDivisionError as e:\n",
    "    print(\"Error:\", e)"
   ]
  },
  {
   "cell_type": "markdown",
   "id": "46223a50-f95a-4937-8aec-63bdbe57ff19",
   "metadata": {},
   "source": [
    "* OverflowError: This error is raised when the result of an arithmetic operation is too large to be represented by the numeric type."
   ]
  },
  {
   "cell_type": "code",
   "execution_count": 4,
   "id": "196b4041-3d73-43f7-ae28-0aaa09bc256f",
   "metadata": {},
   "outputs": [],
   "source": [
    "try:\n",
    "    result = 9999999999999999999999999999999999999999999999999999999999999999999999999999 * 9999999999999999999999999999999999999999999999999999999999999999999999999999\n",
    "except OverflowError as e:\n",
    "    print(\"Error:\", e)"
   ]
  },
  {
   "cell_type": "markdown",
   "id": "db906ca2-3b86-4a97-a6f3-78f321d0da1b",
   "metadata": {},
   "source": [
    "# Q4. Why LookupError class is used? Explain with an example KeyError and IndexError."
   ]
  },
  {
   "cell_type": "markdown",
   "id": "fc3cc74d-a80d-45c3-84ed-4d697f7552be",
   "metadata": {},
   "source": [
    "The LookupError class in Python is the base class for errors that occur during a lookup or indexing operation. It represents errors related to accessing elements or values using keys or indices. Here are two commonly used errors defined in the LookupError class:\n",
    "\n",
    "KeyError: This error is raised when trying to access a key that does not exist in a dictionary."
   ]
  },
  {
   "cell_type": "code",
   "execution_count": 5,
   "id": "650e995b-55e2-4a78-8cce-96944fe75ecb",
   "metadata": {},
   "outputs": [
    {
     "name": "stdout",
     "output_type": "stream",
     "text": [
      "Error: 'city'\n"
     ]
    }
   ],
   "source": [
    "try:\n",
    "    my_dict = {'name': 'John', 'age': 25}\n",
    "    print(my_dict['city'])\n",
    "except KeyError as e:\n",
    "    print(\"Error:\", e)"
   ]
  },
  {
   "cell_type": "markdown",
   "id": "4a710a49-254c-4262-8ac2-e7a6c6ce93db",
   "metadata": {},
   "source": [
    "IndexError: This error is raised when trying to access an index that is out of range in a sequence (such as a list or a string)."
   ]
  },
  {
   "cell_type": "code",
   "execution_count": 6,
   "id": "bdfbf1fc-b02f-45f4-90b6-16948e75d458",
   "metadata": {},
   "outputs": [
    {
     "name": "stdout",
     "output_type": "stream",
     "text": [
      "Error: list index out of range\n"
     ]
    }
   ],
   "source": [
    "try:\n",
    "    my_list = [1, 2, 3]\n",
    "    print(my_list[3])\n",
    "except IndexError as e:\n",
    "    print(\"Error:\", e)"
   ]
  },
  {
   "cell_type": "markdown",
   "id": "cb0a33ee-3ebb-4228-a05c-7fb1d3e33183",
   "metadata": {},
   "source": [
    "# Q5. Explain ImportError. What is ModuleNotFoundError?"
   ]
  },
  {
   "cell_type": "markdown",
   "id": "3de87d39-a2fc-4a60-a986-8ec4123bef96",
   "metadata": {},
   "source": [
    "ImportError is an exception that is raised when an imported module or package cannot be found or loaded. It occurs when there is an issue with importing a module, such as when the module name is misspelled, the module file is not present in the specified location, or there are issues with the module's dependencies.\n",
    "\n",
    "ModuleNotFoundError is a subclass of ImportError that specifically indicates that a module could not be found. It was introduced in Python 3.6 as a more specific and informative error message for cases where a module cannot be located.\n",
    "\n",
    "When an ImportError or ModuleNotFoundError occurs, it typically means that the Python interpreter was unable to locate and import the specified module, which could lead to issues when trying to access functions, classes, or variables defined in that module."
   ]
  },
  {
   "cell_type": "markdown",
   "id": "2b9c81f0-e89b-4570-b4d7-55f08db35fed",
   "metadata": {},
   "source": [
    "# Q6. List down some best practices for exception handling in python."
   ]
  },
  {
   "cell_type": "markdown",
   "id": "3cafb38e-bf63-4905-8c6a-1cd9e87a238b",
   "metadata": {},
   "source": [
    "Here are some best practices for exception handling in Python:\n",
    "\n",
    "* Be specific with exception handling: Catch only the exceptions that you expect and know how to handle. Avoid using a broad except statement that captures all exceptions, as it can make debugging more difficult.\n",
    "\n",
    "* Use multiple except blocks: If you anticipate different types of exceptions, handle them separately using multiple except blocks. This allows you to handle each exception appropriately and provide specific error messages or actions.\n",
    "\n",
    "* Use the finally block: The finally block is used to execute code that should always run, regardless of whether an exception occurred or not. It is useful for releasing resources, closing files, or cleaning up after executing a block of code.\n",
    "\n",
    "* Avoid bare except statements: Avoid using a bare except statement without specifying the exception type. It can hide errors and make debugging challenging. Instead, catch specific exceptions or use a base exception class like Exception if necessary.\n",
    "\n",
    "* Handle exceptions at the right level: Handle exceptions at the appropriate level in your code. This means handling exceptions close to the source of the error where you have the necessary information to handle or log the exception effectively.\n",
    "\n",
    "* Provide meaningful error messages: When raising or catching exceptions, provide informative and meaningful error messages. This helps in understanding the cause of the exception and aids in debugging.\n",
    "\n",
    "* Log exceptions: Consider logging exceptions using a logging library like logging. Logging exceptions can provide valuable information during development and troubleshooting.\n",
    "\n",
    "* Use context managers: Use context managers, such as the with statement, to automatically handle resources like files or database connections. Context managers ensure that resources are properly managed and released, even if an exception occurs.\n",
    "\n",
    "* Reraise exceptions selectively: If you catch an exception but cannot handle it appropriately, you can choose to reraise the exception using the raise statement. This allows the exception to propagate up the call stack for higher-level handlers to handle.\n",
    "\n",
    "*  Test exception handling: Write unit tests to verify that your exception handling code behaves as expected. Test both the cases where exceptions are expected to be raised and where they should be handled correctly.\n",
    "\n",
    "By following these best practices, you can write more robust and maintainable code that gracefully handles exceptions and provides meaningful feedback in case of errors."
   ]
  }
 ],
 "metadata": {
  "kernelspec": {
   "display_name": "Python 3 (ipykernel)",
   "language": "python",
   "name": "python3"
  },
  "language_info": {
   "codemirror_mode": {
    "name": "ipython",
    "version": 3
   },
   "file_extension": ".py",
   "mimetype": "text/x-python",
   "name": "python",
   "nbconvert_exporter": "python",
   "pygments_lexer": "ipython3",
   "version": "3.10.8"
  }
 },
 "nbformat": 4,
 "nbformat_minor": 5
}
