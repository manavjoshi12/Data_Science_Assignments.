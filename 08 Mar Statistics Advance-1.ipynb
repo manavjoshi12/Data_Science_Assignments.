{
 "cells": [
  {
   "cell_type": "markdown",
   "id": "0bb429be-4e68-47e4-8a75-15b4db0df333",
   "metadata": {},
   "source": [
    "# Q1. What is the Probability density function?"
   ]
  },
  {
   "cell_type": "markdown",
   "id": "071e7907-e810-4ae9-a23a-409cdc86f579",
   "metadata": {},
   "source": [
    "The probability density function (PDF) is a mathematical function that describes the relative likelihood of a continuous random variable taking on a specific value or falling within a specific range of values. In other words, the PDF represents the distribution of probabilities across a continuous range of values of a random variable.\n",
    "\n",
    "The PDF is defined as the derivative of the cumulative distribution function (CDF) of the random variable. It is non-negative for all possible values of the random variable and its total area under the curve equals to 1.\n",
    "\n",
    "The PDF is commonly used in statistical inference and probability theory to calculate the probability of the random variable falling within a specific interval or range. It is also used to calculate the expected value, variance, and other moments of the distribution of the continuous random variable.\n",
    "\n",
    "Examples of continuous random variables that have PDFs include the normal distribution, the exponential distribution, and the beta distribution. The PDF is an important tool for understanding the behavior of these and other continuous probability distributions."
   ]
  },
  {
   "cell_type": "markdown",
   "id": "42b8ac26-aff1-4f39-a8e9-cde8581aac14",
   "metadata": {},
   "source": [
    "# Q2. What are the types of Probability distribution?"
   ]
  },
  {
   "cell_type": "markdown",
   "id": "2e94037f-16c3-41e5-ad50-e153443e47e4",
   "metadata": {},
   "source": [
    "There are many types of probability distributions, but some of the most common ones include:\n",
    "\n",
    "* Bernoulli distribution: This is a discrete probability distribution that represents the outcomes of a single experiment with two possible outcomes - success or failure.\n",
    "\n",
    "* Binomial distribution: This is also a discrete probability distribution that describes the number of successes in a fixed number of independent trials with a constant probability of success.\n",
    "\n",
    "* Poisson distribution: This is a discrete probability distribution that describes the probability of a certain number of events occurring in a fixed interval of time or space.\n",
    "\n",
    "* Normal distribution: This is a continuous probability distribution that is commonly known as the \"bell curve.\" It is used to model many natural phenomena, such as heights or weights of individuals, and it has a symmetrical, bell-shaped curve.\n",
    "\n",
    "* Exponential distribution: This is a continuous probability distribution that is often used to model the time between events that occur randomly and independently of each other.\n",
    "\n",
    "* Uniform distribution: This is a continuous probability distribution that assumes all values within a certain range are equally likely to occur.\n",
    "\n",
    "* Gamma distribution: This is a continuous probability distribution that is often used to model the waiting time until a certain number of events have occurred.\n",
    "\n",
    "* Beta distribution: This is a continuous probability distribution that is often used to model the distribution of probabilities, such as in Bayesian inference.\n",
    "\n",
    "There are many other types of probability distributions, but these are some of the most commonly used ones."
   ]
  },
  {
   "cell_type": "markdown",
   "id": "8db4daee-11b4-46c7-9bfc-95147ae1e46e",
   "metadata": {},
   "source": [
    "# Q3. Write a Python function to calculate the probability density function of a normal distribution with given mean and standard deviation at a given point."
   ]
  },
  {
   "cell_type": "code",
   "execution_count": 7,
   "id": "b411f623-b5e7-4f68-92f8-f99d456f7305",
   "metadata": {},
   "outputs": [],
   "source": [
    "import numpy as np\n",
    "\n",
    "def normal_pdf(x, mu, sigma):\n",
    "    \"\"\"Calculate the probability density function of a normal distribution at a given point x.\n",
    "    \n",
    "    Args:\n",
    "        x (float): The point to evaluate the PDF at.\n",
    "        mu (float): The mean of the normal distribution.\n",
    "        sigma (float): The standard deviation of the normal distribution.\n",
    "    \n",
    "    Returns:\n",
    "        float: The PDF value at x.\n",
    "    \"\"\"\n",
    "    pdf = 1 / (sigma * np.sqrt(2*np.pi)) * np.exp(-0.5 * ((x - mu) / sigma)**2)\n",
    "    return pdf\n"
   ]
  },
  {
   "cell_type": "code",
   "execution_count": 8,
   "id": "8df03292-d9f4-491f-95ec-7d5fc64aa3a8",
   "metadata": {},
   "outputs": [
    {
     "name": "stdout",
     "output_type": "stream",
     "text": [
      "0.05399096651318806\n"
     ]
    }
   ],
   "source": [
    "pdf_value = normal_pdf(2, 0, 1)\n",
    "print(pdf_value) \n"
   ]
  },
  {
   "cell_type": "markdown",
   "id": "e9056a6d-5a7d-4914-9b32-c977e0f35cfc",
   "metadata": {},
   "source": [
    "# Q4. What are the properties of Binomial distribution? Give two examples of events where binomial distribution can be applied."
   ]
  },
  {
   "cell_type": "markdown",
   "id": "be462837-8227-43cb-bf74-7d086b1fc750",
   "metadata": {},
   "source": [
    "The Binomial distribution has the following properties:\n",
    "\n",
    "The experiment consists of a fixed number of independent trials, denoted by n.\n",
    "Each trial has only two possible outcomes, usually labeled as success (S) and failure (F).\n",
    "The probability of success, denoted by p, is constant for each trial.\n",
    "The trials are independent, meaning that the outcome of one trial does not affect the outcome of any other trial.\n",
    "The random variable X represents the number of successes in n trials.\n",
    "\n",
    "Two examples of events where Binomial distribution can be applied are:\n",
    "\n",
    "* A manufacturing company produces electronic chips, and the quality control department tests a sample of 100 chips for defects. Suppose that the probability of a chip being defective is 0.05. The number of defective chips in the sample can be modeled using the Binomial distribution.\n",
    "\n",
    "* A marketing department conducts a survey to find out how many people in a certain region will buy a new product. The survey is conducted on a sample of 500 people, and the probability of a person buying the product is 0.2. The number of people who will buy the product in the sample can be modeled using the Binomial distribution."
   ]
  },
  {
   "cell_type": "markdown",
   "id": "c10064d0-aaa5-4972-97d2-018ff8c5465c",
   "metadata": {},
   "source": [
    "# Q5. Generate a random sample of size 1000 from a binomial distribution with probability of success 0.4 and plot a histogram of the results using matplotlib."
   ]
  },
  {
   "cell_type": "code",
   "execution_count": 5,
   "id": "b4e4a820-7f9a-43e9-b2d4-1f9fe29e2a9a",
   "metadata": {},
   "outputs": [
    {
     "data": {
      "image/png": "[encoded data removed]",
      "text/plain": [
       "<Figure size 640x480 with 1 Axes>"
      ]
     },
     "metadata": {},
     "output_type": "display_data"
    }
   ],
   "source": [
    "import numpy as np\n",
    "import matplotlib.pyplot as plt\n",
    "\n",
    "# set the parameters\n",
    "n = 10  # number of trials\n",
    "p = 0.4  # probability of success\n",
    "size = 1000  # sample size\n",
    "\n",
    "# generate the random sample\n",
    "sample = np.random.binomial(n, p, size)\n",
    "\n",
    "# plot the histogram\n",
    "plt.hist(sample, bins=range(n+2), align='left', rwidth=0.8)\n",
    "plt.xticks(range(n+1))\n",
    "plt.xlabel('Number of successes')\n",
    "plt.ylabel('Frequency')\n",
    "plt.title('Binomial distribution (n=10, p=0.4)')\n",
    "plt.show()\n"
   ]
  },
  {
   "cell_type": "markdown",
   "id": "f439d4a4-12f4-43ba-8a68-b654e4b115c4",
   "metadata": {},
   "source": [
    "# Q6. Write a Python function to calculate the cumulative distribution function of a Poisson distribution with given mean at a given point."
   ]
  },
  {
   "cell_type": "code",
   "execution_count": 3,
   "id": "beb378ae-4246-4243-a2d5-cc8aacc49724",
   "metadata": {},
   "outputs": [],
   "source": [
    "import math\n",
    "\n",
    "def poisson_cdf(lam, k):\n",
    "    \"\"\"Calculate the CDF of a Poisson distribution with mean `lam` at a given point `k`\"\"\"\n",
    "    cdf = 0\n",
    "    for i in range(k+1):\n",
    "        cdf += math.pow(lam, i) * math.exp(-lam) / math.factorial(i)\n",
    "    return cdf\n"
   ]
  },
  {
   "cell_type": "code",
   "execution_count": 4,
   "id": "62647e87-e2a0-48ae-906a-66e1255e1408",
   "metadata": {},
   "outputs": [
    {
     "data": {
      "text/plain": [
       "0.42319008112684353"
      ]
     },
     "execution_count": 4,
     "metadata": {},
     "output_type": "execute_result"
    }
   ],
   "source": [
    "poisson_cdf(3, 2)\n"
   ]
  },
  {
   "cell_type": "markdown",
   "id": "d0a460d3-b33b-47d4-bae7-6978f5748d61",
   "metadata": {},
   "source": [
    "# Q7. How Binomial distribution different from Poisson distribution?"
   ]
  },
  {
   "cell_type": "markdown",
   "id": "db73e9ee-643e-452c-92ab-108a196f9a3c",
   "metadata": {},
   "source": [
    "The Binomial distribution and Poisson distribution are both probability distributions, but they differ in several ways:\n",
    "\n",
    "* Number of trials: The Binomial distribution is used to model the number of successes in a fixed number of independent trials, while the Poisson distribution is used to model the number of events occurring in a fixed interval of time or space.\n",
    "\n",
    "* Probability of success: In the Binomial distribution, the probability of success is constant for each trial, while in the Poisson distribution, the probability of an event occurring is assumed to be small and varies with the length of the interval or size of the space.\n",
    "\n",
    "* Type of outcomes: The outcomes of the Binomial distribution are usually discrete and can only take on whole numbers, while the outcomes of the Poisson distribution can take on any non-negative integer value.\n",
    "\n",
    "* Mean and variance: In the Binomial distribution, the mean is equal to n times the probability of success, and the variance is equal to n times the probability of success times the probability of failure. In the Poisson distribution, both the mean and variance are equal to the rate parameter λ.\n",
    "\n",
    "In general, the Binomial distribution is used when the number of trials is fixed and the probability of success is constant, while the Poisson distribution is used when the number of events is rare and the probability of an event occurring is low."
   ]
  },
  {
   "cell_type": "markdown",
   "id": "a6304e5f-643c-4b1d-b0b8-58b73976e743",
   "metadata": {},
   "source": [
    "# Q8. Generate a random sample of size 1000 from a Poisson distribution with mean 5 and calculate the sample mean and variance."
   ]
  },
  {
   "cell_type": "code",
   "execution_count": 1,
   "id": "658ada1e-15cd-4ff6-9069-ef7e068dc166",
   "metadata": {},
   "outputs": [
    {
     "name": "stdout",
     "output_type": "stream",
     "text": [
      "Sample mean: 5.084\n",
      "Sample variance: 5.118944000000001\n"
     ]
    }
   ],
   "source": [
    "import numpy as np\n",
    "\n",
    "# Set the parameters\n",
    "mean = 5\n",
    "size = 1000\n",
    "\n",
    "# Generate the random sample\n",
    "sample = np.random.poisson(mean, size)\n",
    "\n",
    "# Calculate the sample mean and variance\n",
    "sample_mean = np.mean(sample)\n",
    "sample_variance = np.var(sample)\n",
    "\n",
    "print(\"Sample mean:\", sample_mean)\n",
    "print(\"Sample variance:\", sample_variance)\n"
   ]
  },
  {
   "cell_type": "markdown",
   "id": "487fa64f-03db-49f8-b84c-b04bbff56381",
   "metadata": {},
   "source": [
    "# Q9. How mean and variance are related in Binomial distribution and Poisson distribution?"
   ]
  },
  {
   "cell_type": "markdown",
   "id": "63e8d862-44bf-4771-a508-26c2f0edb961",
   "metadata": {},
   "source": [
    "The mean and variance are related in Binomial and Poisson distributions in the following ways:\n",
    "\n",
    "* Binomial distribution:\n",
    "The mean of a Binomial distribution is given by μ = np, where n is the number of trials and p is the probability of success in each trial. The variance of a Binomial distribution is given by σ^2 = np(1-p).\n",
    "\n",
    "* Poisson distribution:\n",
    "The mean of a Poisson distribution is given by μ = λ, where λ is the rate parameter, which represents the expected number of events in a fixed interval of time or space. The variance of a Poisson distribution is also given by σ^2 = λ.\n",
    "\n",
    "In both distributions, the variance is a measure of the spread or variability of the distribution around its mean. In the Binomial distribution, the variance increases as the probability of success gets closer to 0 or 1, indicating a greater spread in the outcomes. In the Poisson distribution, the variance is equal to the mean, indicating that the spread of the distribution is directly proportional to the expected number of events.\n",
    "\n",
    "Overall, the mean and variance provide important information about the central tendency and variability of the distributions, and can be used to make inferences and predictions about the outcomes of random events."
   ]
  },
  {
   "cell_type": "markdown",
   "id": "db7cc5b9-cd32-47e9-81c5-3a557650c7e8",
   "metadata": {},
   "source": [
    "# Q10. In normal distribution with respect to mean position, where does the least frequent data appear?"
   ]
  },
  {
   "cell_type": "markdown",
   "id": "0867725b-a44e-49b6-b941-e79e398151f1",
   "metadata": {},
   "source": [
    "In a normal distribution, the least frequent data appears in the tails of the distribution, which are the areas farthest from the mean. The normal distribution is a bell-shaped curve, and the mean is located at the center of the curve. The tails of the distribution represent the extreme values or outliers, which are less likely to occur than values near the mean.\n",
    "\n",
    "For example, if we have a normal distribution with a mean of 50 and a standard deviation of 10, the data points around the mean of 50 are more frequent than data points farther away from the mean. The least frequent data points would be those in the tails of the distribution, such as values below 30 or above 70.\n",
    "\n",
    "It is important to note that the exact position of the least frequent data depends on the specific parameters of the normal distribution, such as the mean and standard deviation. In general, the tails of the distribution become less and less frequent as we move farther away from the mean."
   ]
  }
 ],
 "metadata": {
  "kernelspec": {
   "display_name": "Python 3 (ipykernel)",
   "language": "python",
   "name": "python3"
  },
  "language_info": {
   "codemirror_mode": {
    "name": "ipython",
    "version": 3
   },
   "file_extension": ".py",
   "mimetype": "text/x-python",
   "name": "python",
   "nbconvert_exporter": "python",
   "pygments_lexer": "ipython3",
   "version": "3.10.8"
  }
 },
 "nbformat": 4,
 "nbformat_minor": 5
}
