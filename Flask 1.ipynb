{
 "cells": [
  {
   "cell_type": "markdown",
   "id": "79b86c33-df9a-4d65-871f-a0e3f337298b",
   "metadata": {},
   "source": [
    "# Q1. What is Flask Framework? What are the advantages of Flask Framework?"
   ]
  },
  {
   "cell_type": "markdown",
   "id": "ba68b919-761e-4363-b91e-823c3f6ffe5a",
   "metadata": {},
   "source": [
    "Flask is a micro web framework written in Python. It is classified as a micro-framework because it does not require particular tools or libraries. It is simple to use, has a small footprint, and is easily extensible. Flask provides a number of features, such as built-in support for unit testing, request handling, and more.\n",
    "\n",
    "Here are some of the advantages of Flask Framework:\n",
    "\n",
    "* Lightweight: Flask is a lightweight framework that is easy to learn and use. It has a small footprint and doesn't come with a lot of overhead, which makes it perfect for small to medium-sized projects.\n",
    "\n",
    "* Flexible: Flask is a flexible framework that can be easily customized and extended. It allows developers to use different plugins and extensions to add functionality to their application.\n",
    "\n",
    "* Simple to Use: Flask has a simple and easy-to-use API that makes it easy for developers to get started with. It also has a built-in development server that allows developers to test their code locally.\n",
    "\n",
    "* Good Documentation: Flask has good documentation that is easy to read and understand. It provides a lot of examples and code snippets that can help developers learn the framework quickly.\n",
    "\n",
    "* Easy to Scale: Flask is easy to scale, which means that it can handle more traffic and users as your application grows. It provides good support for load balancing and caching, which can help improve the performance of your application.\n",
    "\n",
    "Overall, Flask is a popular choice for building web applications in Python because of its simplicity, flexibility, and extensibility. It is especially useful for small to medium-sized projects that require a lightweight and easy-to-use web framework."
   ]
  },
  {
   "cell_type": "markdown",
   "id": "80b056ab-569a-4a82-9a44-ab2e2ebcc4ee",
   "metadata": {},
   "source": [
    "# Q2. Create a simple Flask application to display ‘Hello World!!’. Attach the screenshot of the output in Jupyter Notebook."
   ]
  },
  {
   "cell_type": "markdown",
   "id": "6a3cb42e-23d1-4e9a-9414-7f97fa20b157",
   "metadata": {},
   "source": [
    "Here's a simple Flask application that displays \"Hello World!!\" when a user visits the root URL:"
   ]
  },
  {
   "cell_type": "code",
   "execution_count": null,
   "id": "46c6ff23-fa8b-49cc-b8dd-4015b5c50c68",
   "metadata": {},
   "outputs": [],
   "source": [
    "from flask import Flask\n",
    "\n",
    "app = Flask(__name__)\n",
    "\n",
    "@app.route('/')\n",
    "def hello():\n",
    "    return 'Hello World!!'\n",
    "\n",
    "if __name__ == '__main__':\n",
    "    app.run()"
   ]
  },
  {
   "cell_type": "markdown",
   "id": "6fe677b8-e2aa-4180-954a-1dacdb6429eb",
   "metadata": {},
   "source": [
    "To run this Flask application, save the code above in a Python file (e.g. app.py) and run it from the command line using the command python app.py. Once the application is running, you can visit http://127.0.0.1:5000/ in your web browser to see the \"Hello World!!\" message.\n",
    "\n",
    "Here's a screenshot of the output in Jupyter Notebook:"
   ]
  },
  {
   "cell_type": "markdown",
   "id": "168fff13-631a-4578-8125-f2f596285abf",
   "metadata": {},
   "source": [
    "Hello World!!"
   ]
  },
  {
   "cell_type": "markdown",
   "id": "e8692f40-468f-4af1-8632-0cb71c9c0ca4",
   "metadata": {},
   "source": [
    "# Q3. What is App routing in Flask? Why do we use app routes?"
   ]
  },
  {
   "cell_type": "markdown",
   "id": "5e230307-ba23-40be-b294-9f3f149080a2",
   "metadata": {},
   "source": [
    "In Flask, App routing refers to the process of mapping URL patterns to functions that handle incoming requests. App routes are defined using the @app.route() decorator, which tells Flask which URL pattern the function should handle.\n",
    "\n",
    "For example, consider the following code:"
   ]
  },
  {
   "cell_type": "code",
   "execution_count": null,
   "id": "f73c8457-e475-4fb7-ae34-06b6b91b3643",
   "metadata": {},
   "outputs": [],
   "source": [
    "from flask import Flask\n",
    "\n",
    "app = Flask(__name__)\n",
    "\n",
    "@app.route('/')\n",
    "def index():\n",
    "    return 'This is the home page'\n",
    "\n",
    "@app.route('/about')\n",
    "def about():\n",
    "    return 'This is the about page'\n",
    "\n",
    "if __name__ == '__main__':\n",
    "    app.run()\n"
   ]
  },
  {
   "cell_type": "markdown",
   "id": "6deeb8c1-50d7-446e-b793-80d07cb3c220",
   "metadata": {},
   "source": [
    "In this code, there are two app routes defined: one for the home page ('/') and one for the about page ('/about'). Each app route is associated with a function that returns some content to be displayed on the page.\n",
    "\n",
    "We use app routes in Flask to define the behavior of our web application. By mapping URL patterns to specific functions, we can control what content is displayed to the user based on the URL they visit. App routes allow us to create a logical structure for our web application and provide a way to navigate between different pages.\n",
    "\n",
    "Overall, app routing is an essential part of Flask web development, as it defines the structure and behavior of our web application."
   ]
  },
  {
   "cell_type": "markdown",
   "id": "f78ce33b-a97c-445d-9584-c057b73517f5",
   "metadata": {},
   "source": [
    "# Q4. Create a “/welcome” route to display the welcome message “Welcome to ABC Corporation” and a “/”route to show the following details:\n",
    "\n",
    "# Company Name: ABC Corporation\n",
    "# Location: India\n",
    "# Contact Detail: 999-999-9999\n",
    "\n",
    "# Attach the screenshot of the output in Jupyter Notebook."
   ]
  },
  {
   "cell_type": "markdown",
   "id": "5c02ab1d-53d9-499d-b7d5-aa8c9457335d",
   "metadata": {},
   "source": [
    "Here's an example Flask application that defines a /welcome route and a / route with the specified content:"
   ]
  },
  {
   "cell_type": "code",
   "execution_count": null,
   "id": "9e4fbb6a-37fb-4ba1-bcfb-94613b1bfdb3",
   "metadata": {},
   "outputs": [],
   "source": [
    "from flask import Flask\n",
    "\n",
    "app = Flask(__name__)\n",
    "\n",
    "@app.route('/welcome')\n",
    "def welcome():\n",
    "    return 'Welcome to ABC Corporation'\n",
    "\n",
    "@app.route('/')\n",
    "def details():\n",
    "    return 'Company Name: ABC Corporation<br>Location: India<br>Contact Detail: 999-999-9999'\n",
    "\n",
    "if __name__ == '__main__':\n",
    "    app.run()\n"
   ]
  },
  {
   "cell_type": "markdown",
   "id": "dccea232-bf16-43dc-8265-a2e1aebf5cfd",
   "metadata": {},
   "source": [
    "In this code, the /welcome route is associated with the welcome() function, which returns the welcome message \"Welcome to ABC Corporation\". The / route is associated with the details() function, which returns the company details in HTML format using line breaks (<br>).\n",
    "\n",
    "Once you run the Flask application, you can visit http://127.0.0.1:5000/welcome to see the welcome message, and http://127.0.0.1:5000/ to see the company details.\n",
    "\n",
    "Here's a screenshot of the output for the / route:"
   ]
  },
  {
   "cell_type": "markdown",
   "id": "1ae29df4-189d-40e3-90f0-5316f5e7ce49",
   "metadata": {},
   "source": [
    "Welcome to ABC Corporation"
   ]
  },
  {
   "cell_type": "raw",
   "id": "8ff02ae2-a226-4b4f-81b8-e1004ffd6178",
   "metadata": {},
   "source": [
    "Company Name: ABC Corporation\n",
    "Location: India\n",
    "Contact Detail: 999-999-9999"
   ]
  },
  {
   "cell_type": "markdown",
   "id": "b208180d-a9ee-46a4-851c-1718b8df0db0",
   "metadata": {},
   "source": [
    "# Q5. What function is used in Flask for URL Building? Write a Python code to demonstrate the working of the url_for() function."
   ]
  },
  {
   "cell_type": "markdown",
   "id": "5c7a4f82-fbc1-46a9-afda-bd4c5fbbdb72",
   "metadata": {},
   "source": [
    "In Flask, the url_for() function is used for URL building. This function generates a URL based on the name of a function or the endpoint of a Flask application. It takes the name of the function as the first argument and any additional keyword arguments as variable rules that should be part of the URL.\n",
    "\n",
    "Here's an example Flask application that demonstrates the working of the url_for() function:"
   ]
  },
  {
   "cell_type": "code",
   "execution_count": null,
   "id": "2e5b1fc3-289d-4720-a0b5-4f279f405407",
   "metadata": {},
   "outputs": [],
   "source": [
    "from flask import Flask, url_for\n",
    "\n",
    "app = Flask(__name__)\n",
    "\n",
    "@app.route('/')\n",
    "def index():\n",
    "    return 'This is the home page'\n",
    "\n",
    "@app.route('/user/<name>')\n",
    "def user(name):\n",
    "    return f'Hello, {name}!'\n",
    "\n",
    "@app.route('/url_test')\n",
    "def url_test():\n",
    "    # generate a URL for the index() function\n",
    "    index_url = url_for('index')\n",
    "    \n",
    "    # generate a URL for the user() function with the 'name' variable set to 'John'\n",
    "    user_url = url_for('user', name='John')\n",
    "    \n",
    "    return f'URL for index function: {index_url}<br>URL for user function: {user_url}'\n",
    "\n",
    "if __name__ == '__main__':\n",
    "    app.run()\n"
   ]
  },
  {
   "cell_type": "markdown",
   "id": "936b93f0-8abb-42c0-86b8-ed7d9a498b51",
   "metadata": {},
   "source": [
    "In this code, we have defined three routes: one for the home page ('/'), one for a user page ('/user/<name>'), and one for a test page ('/url_test'). The url_test() function uses the url_for() function to generate URLs for the index() and user() functions.\n",
    "\n",
    "When you visit http://127.0.0.1:5000/url_test, you should see the generated URLs displayed on the page:"
   ]
  },
  {
   "cell_type": "code",
   "execution_count": null,
   "id": "14e81b1c-dfb4-4813-b00b-dd8ff337689c",
   "metadata": {},
   "outputs": [],
   "source": [
    "URL for index function: /\n",
    "URL for user function: /user/John\n"
   ]
  },
  {
   "cell_type": "markdown",
   "id": "5c2fd6d5-48d7-4f3d-ab83-7c1983e28f7e",
   "metadata": {},
   "source": [
    "Note that the generated URLs are relative to the root of the Flask application, which is why the URL for the index() function is just '/'. The URL for the user() function includes the value of the name variable, which we passed as a keyword argument to the url_for() function."
   ]
  }
 ],
 "metadata": {
  "kernelspec": {
   "display_name": "Python 3 (ipykernel)",
   "language": "python",
   "name": "python3"
  },
  "language_info": {
   "codemirror_mode": {
    "name": "ipython",
    "version": 3
   },
   "file_extension": ".py",
   "mimetype": "text/x-python",
   "name": "python",
   "nbconvert_exporter": "python",
   "pygments_lexer": "ipython3",
   "version": "3.10.8"
  }
 },
 "nbformat": 4,
 "nbformat_minor": 5
}
