{
 "cells": [
  {
   "cell_type": "markdown",
   "id": "29f6dbb8-946e-44c3-aa04-ef538eee9ca2",
   "metadata": {},
   "source": [
    "# Q1. Create a vehicle class with an init method having instance variables as name_of_vehicle, max_speed and average_of_vehicle."
   ]
  },
  {
   "cell_type": "code",
   "execution_count": 2,
   "id": "07eb8f69-b1c5-4f2f-9b5f-2a4a1202e5cd",
   "metadata": {},
   "outputs": [],
   "source": [
    "class Vehicle:\n",
    "    def __init__(self, name_of_vehicle, max_speed, average_speed):\n",
    "        self.name_of_vehicle = name_of_vehicle\n",
    "        self.max_speed = max_speed\n",
    "        self.average_speed = average_speed\n"
   ]
  },
  {
   "cell_type": "code",
   "execution_count": 3,
   "id": "6ffa4f74-cf3c-49c2-a3ca-052212c26b92",
   "metadata": {},
   "outputs": [
    {
     "name": "stdout",
     "output_type": "stream",
     "text": [
      "Thar\n",
      "210\n",
      "80\n"
     ]
    }
   ],
   "source": [
    "# Create an instance of Vehicle\n",
    "car = Vehicle(\"Thar\", 210, 80)\n",
    "\n",
    "# Access the attributes\n",
    "print(car.name_of_vehicle)   \n",
    "print(car.max_speed)         \n",
    "print(car.average_speed)      \n"
   ]
  },
  {
   "cell_type": "markdown",
   "id": "1791e442-f53a-4f44-a73a-da1b5c12d49f",
   "metadata": {},
   "source": [
    "# Q2. Create a child class car from the vehicle class created in Que 1, which will inherit the vehicle class. Create a method named seating_capacity which takes capacity as an argument and returns the name of the vehicle and its seating capacity."
   ]
  },
  {
   "cell_type": "code",
   "execution_count": 4,
   "id": "8fd19a2d-1629-49ad-b26c-2ec6de21045b",
   "metadata": {},
   "outputs": [],
   "source": [
    "class Car(Vehicle):\n",
    "    def seating_capacity(self, capacity):\n",
    "        return f\"{self.name_of_vehicle} - Seating Capacity: {capacity}\"\n"
   ]
  },
  {
   "cell_type": "code",
   "execution_count": 6,
   "id": "94ebee51-637f-4f2b-886c-591c0e106d50",
   "metadata": {},
   "outputs": [
    {
     "name": "stdout",
     "output_type": "stream",
     "text": [
      "Car - Seating Capacity: 4\n"
     ]
    }
   ],
   "source": [
    "# Create an instance of Car\n",
    "car = Car(\"Car\", 200, 80)\n",
    "\n",
    "# Call the seating_capacity method\n",
    "capacity = 4\n",
    "result = car.seating_capacity(capacity)\n",
    "print(result) \n"
   ]
  },
  {
   "cell_type": "markdown",
   "id": "161cbd85-a582-454c-b883-b138090d6e19",
   "metadata": {},
   "source": [
    "# Q3. What is multiple inheritance? Write a python code to demonstrate multiple inheritance."
   ]
  },
  {
   "cell_type": "markdown",
   "id": "ccef16b2-2f4d-4361-9c46-893a0addb795",
   "metadata": {},
   "source": [
    "Multiple inheritance is a feature in object-oriented programming where a class can inherit attributes and methods from more than one parent class. This allows a derived class to have characteristics and behaviors from multiple base classes.\n",
    "\n",
    "Here's an example Python code that demonstrates multiple inheritance:"
   ]
  },
  {
   "cell_type": "code",
   "execution_count": 8,
   "id": "2a55564e-7dc3-4760-828b-52fc1e8a5d34",
   "metadata": {},
   "outputs": [
    {
     "name": "stdout",
     "output_type": "stream",
     "text": [
      "Sparrow is eating.\n",
      "Sparrow is sleeping.\n",
      "Sparrow is flying.\n",
      "Sparrow is chirping.\n"
     ]
    }
   ],
   "source": [
    "class Animal:\n",
    "    def __init__(self, name):\n",
    "        self.name = name\n",
    "\n",
    "    def eat(self):\n",
    "        print(f\"{self.name} is eating.\")\n",
    "\n",
    "    def sleep(self):\n",
    "        print(f\"{self.name} is sleeping.\")\n",
    "\n",
    "\n",
    "class Flyable:\n",
    "    def fly(self):\n",
    "        print(f\"{self.name} is flying.\")\n",
    "\n",
    "\n",
    "class Bird(Animal, Flyable):\n",
    "    def __init__(self, name):\n",
    "        super().__init__(name)\n",
    "\n",
    "    def chirp(self):\n",
    "        print(f\"{self.name} is chirping.\")\n",
    "\n",
    "\n",
    "# Create an instance of Bird\n",
    "bird = Bird(\"Sparrow\")\n",
    "\n",
    "# Access methods from Animal class\n",
    "bird.eat()    \n",
    "bird.sleep()  \n",
    "\n",
    "# Access methods from Flyable class\n",
    "bird.fly()    \n",
    "\n",
    "# Access method specific to Bird class\n",
    "bird.chirp()  \n"
   ]
  },
  {
   "cell_type": "markdown",
   "id": "f9572af6-0ae2-4f6c-aed6-f595a512c26a",
   "metadata": {},
   "source": [
    "# Q4. What are getter and setter in python? Create a class and create a getter and a setter method in this class."
   ]
  },
  {
   "cell_type": "markdown",
   "id": "636ba8cb-c6ee-49dd-b463-057539a91e0e",
   "metadata": {},
   "source": [
    "In Python, getters and setters are methods used to access and modify the attributes (or properties) of a class. They provide a way to encapsulate the access to class attributes and allow for better control over attribute manipulation.\n",
    "\n",
    "Getters are used to retrieve the value of an attribute, while setters are used to set or modify the value of an attribute. They provide a level of abstraction and can include additional logic or validation before accessing or modifying the attribute.\n",
    "\n",
    "Here's an example that demonstrates the use of a getter and a setter in a Python class:"
   ]
  },
  {
   "cell_type": "code",
   "execution_count": null,
   "id": "9e656f5c-0992-406b-a062-e53a5445b108",
   "metadata": {},
   "outputs": [
    {
     "name": "stdout",
     "output_type": "stream",
     "text": [
      "5\n",
      "8\n",
      "Invalid width value.\n",
      "24\n"
     ]
    }
   ],
   "source": [
    "class Rectangle:\n",
    "    def __init__(self, width, height):\n",
    "        self._width = width\n",
    "        self._height = height\n",
    "\n",
    "    def get_width(self):\n",
    "        return self._width\n",
    "\n",
    "    def set_width(self, width):\n",
    "        if width > 0:\n",
    "            self._width = width\n",
    "        else:\n",
    "            print(\"Invalid width value.\")\n",
    "\n",
    "    def get_height(self):\n",
    "        return self._height\n",
    "\n",
    "    def set_height(self, height):\n",
    "        if height > 0:\n",
    "            self._height = height\n",
    "        else:\n",
    "            print(\"Invalid height value.\")\n",
    "\n",
    "    def area(self):\n",
    "        return self._width * self._height\n",
    "\n",
    "\n",
    "# Create an instance of Rectangle\n",
    "rectangle = Rectangle(5, 3)\n",
    "\n",
    "# Get the width using the getter method\n",
    "print(rectangle.get_width())  \n",
    "\n",
    "# Set a new width using the setter method\n",
    "rectangle.set_width(8)\n",
    "\n",
    "# Get the updated width\n",
    "print(rectangle.get_width())  \n",
    "\n",
    "# Try setting an invalid width\n",
    "rectangle.set_width(-2)  \n",
    "\n",
    "# Calculate and print the area\n",
    "print(rectangle.area())  \n"
   ]
  },
  {
   "cell_type": "markdown",
   "id": "41e95168-26d6-4bec-8843-49f95568d099",
   "metadata": {},
   "source": [
    "# Q5.What is method overriding in python? Write a python code to demonstrate method overriding."
   ]
  },
  {
   "cell_type": "markdown",
   "id": "11025395-b910-43e6-88cb-c426a014e37c",
   "metadata": {},
   "source": [
    "Method overriding in Python refers to the ability of a subclass to provide a different implementation of a method that is already defined in its superclass. When a subclass defines a method with the same name as that of its superclass, it overrides the implementation of the superclass method.\n",
    "\n",
    "Here's an example that demonstrates method overriding in Python:"
   ]
  },
  {
   "cell_type": "code",
   "execution_count": 10,
   "id": "d759cbba-bab9-46f8-8762-f2f81ec8a4d5",
   "metadata": {},
   "outputs": [
    {
     "name": "stdout",
     "output_type": "stream",
     "text": [
      "Calculating area in Shape class\n",
      "Calculating area in Rectangle class\n",
      "Calculating area in Circle class\n"
     ]
    }
   ],
   "source": [
    "class Shape:\n",
    "    def area(self):\n",
    "        print(\"Calculating area in Shape class\")\n",
    "\n",
    "class Rectangle(Shape):\n",
    "    def area(self):\n",
    "        print(\"Calculating area in Rectangle class\")\n",
    "\n",
    "class Circle(Shape):\n",
    "    def area(self):\n",
    "        print(\"Calculating area in Circle class\")\n",
    "\n",
    "# Create instances of the classes\n",
    "shape = Shape()\n",
    "rectangle = Rectangle()\n",
    "circle = Circle()\n",
    "\n",
    "# Call the area method on instances\n",
    "shape.area() \n",
    "rectangle.area()  \n",
    "circle.area()  "
   ]
  }
 ],
 "metadata": {
  "kernelspec": {
   "display_name": "Python 3 (ipykernel)",
   "language": "python",
   "name": "python3"
  },
  "language_info": {
   "codemirror_mode": {
    "name": "ipython",
    "version": 3
   },
   "file_extension": ".py",
   "mimetype": "text/x-python",
   "name": "python",
   "nbconvert_exporter": "python",
   "pygments_lexer": "ipython3",
   "version": "3.10.8"
  }
 },
 "nbformat": 4,
 "nbformat_minor": 5
}
