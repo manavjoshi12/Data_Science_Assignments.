{
 "cells": [
  {
   "cell_type": "markdown",
   "id": "491158d0-0383-418a-acd6-eb89325d22fe",
   "metadata": {},
   "source": [
    "# Q1. Explain Class and Object with respect to Object-Oriented Programming. Give a suitable example."
   ]
  },
  {
   "cell_type": "markdown",
   "id": "eee161a0-805b-4b9e-b386-effafbf50345",
   "metadata": {},
   "source": [
    "In Object-Oriented Programming (OOP), a class is a blueprint or a template for creating objects, which are instances of the class. A class defines the properties and behaviors that all objects of that class will have.\n",
    "\n",
    "An object is an instance of a class. It is created from the class and represents a specific entity in a program. Objects have properties, also known as attributes, which are defined by the class. They also have behaviors, also known as methods, which define what an object can do.\n",
    "\n",
    "For example, consider a class called Car that defines the properties and behaviors of a car. The class might have attributes such as make, model, year, and color, which define the make, model, year, and color of the car. It might also have methods such as start(), stop(), accelerate(), and brake(), which define the actions that the car can perform.\n",
    "\n",
    "To create an object of the Car class, we would use the new keyword followed by the name of the class, like this:"
   ]
  },
  {
   "cell_type": "code",
   "execution_count": null,
   "id": "99e63c11-eae6-4d80-9f0e-f925a077b4e2",
   "metadata": {},
   "outputs": [],
   "source": [
    "my_car = Car()"
   ]
  },
  {
   "cell_type": "markdown",
   "id": "b3c04abd-d5bd-4c60-9e8c-355c6d3c40f7",
   "metadata": {},
   "source": [
    "This would create a new instance of the Car class and assign it to the variable my_car. We could then access the attributes and methods of the object using dot notation, like this:"
   ]
  },
  {
   "cell_type": "code",
   "execution_count": null,
   "id": "2d996426-d9c7-40b9-b421-0315470b8e71",
   "metadata": {},
   "outputs": [],
   "source": [
    "my_car.make = 'Honda'\n",
    "my_car.model = 'Civic'\n",
    "my_car.year = 2020\n",
    "my_car.color = 'blue'\n",
    "\n",
    "my_car.start()\n",
    "my_car.accelerate()\n",
    "my_car.brake()\n",
    "my_car.stop()\n",
    "\n",
    "\n",
    "\"In this example, my_car is an object of the Car class, and we are setting its attributes and calling its methods.\""
   ]
  },
  {
   "cell_type": "markdown",
   "id": "e89fbaea-82a3-45fd-bfa8-f9e23fad4094",
   "metadata": {},
   "source": [
    "# Q2. Name the four pillars of OOPs."
   ]
  },
  {
   "cell_type": "markdown",
   "id": "84214cd9-e889-4279-85a6-721507da7c22",
   "metadata": {},
   "source": [
    "The four pillars of Object-Oriented Programming (OOP) are:\n",
    "\n",
    "1.Encapsulation: It is the process of wrapping data members and methods into a single unit called a class. It enables the abstraction of the complexity of the system and prevents unauthorized access to the data.\n",
    "\n",
    "2.Inheritance: It is the mechanism of creating a new class from an existing class. The new class inherits the properties and methods of the existing class and can add new properties or methods to it.\n",
    "\n",
    "3.Polymorphism: It is the ability of an object to take on multiple forms. In OOP, it refers to the ability of objects of different classes to be treated as if they belong to the same class.\n",
    "\n",
    "4.Abstraction: It is the process of hiding complex implementation details and providing a simplified interface to the user. It helps in reducing the complexity of the system and improves its maintainability."
   ]
  },
  {
   "cell_type": "markdown",
   "id": "924e3b0e-3bb5-4075-91d5-2595d834c997",
   "metadata": {},
   "source": [
    "# Q3. Explain why the __init__() function is used. Give a suitable example."
   ]
  },
  {
   "cell_type": "markdown",
   "id": "0b3796f9-6407-43d9-bdf0-65ed6e72addd",
   "metadata": {},
   "source": [
    "In object-oriented programming, the __init__() function is a special method used to initialize a newly created object. It is called a constructor because it constructs the values of the object.\n",
    "\n",
    "The __init__() function is executed automatically whenever a new object is created from the class. It takes self as the first parameter, which refers to the instance of the class being created, and any additional parameters required to initialize the object.\n",
    "\n",
    "For example, let's consider a class called Student which has attributes like name, age, and major. The __init__() function can be used to initialize these attributes when a new Student object is created:"
   ]
  },
  {
   "cell_type": "code",
   "execution_count": null,
   "id": "85916ea6-bf1b-4ed5-a152-b1ce4ca018e5",
   "metadata": {},
   "outputs": [],
   "source": [
    "class Student:\n",
    "    def __init__(self, name, age, major):\n",
    "        self.name = name\n",
    "        self.age = age\n",
    "        self.major = major\n",
    "\n",
    "# creating an object of Student class\n",
    "student1 = Student(\"John\", 20, \"Computer Science\")\n",
    "\n",
    "'''In this example, when the Student object student1 is created,\n",
    "the __init__() function is called automatically with the values passed to it.\n",
    "These values are used to set the attributes of the object.'''\n"
   ]
  },
  {
   "cell_type": "markdown",
   "id": "f373a5eb-db64-494c-8f2a-155c4713ae9d",
   "metadata": {},
   "source": [
    "# Q4. Why self is used in OOPs?"
   ]
  },
  {
   "cell_type": "markdown",
   "id": "1aa91003-c9ea-4a08-ab4e-ac9fea8852a0",
   "metadata": {},
   "source": [
    "In object-oriented programming, the self keyword refers to the instance of the class that is currently being worked with. It is a convention in Python to use self as the first parameter of instance methods in a class.\n",
    "\n",
    "When an instance method is called on an object, Python automatically passes the instance as the first argument to the method. This allows the method to access the data and methods of that instance.\n",
    "\n",
    "For example, consider the following class:"
   ]
  },
  {
   "cell_type": "code",
   "execution_count": null,
   "id": "0025a0b7-c078-4817-82f5-09912ba3ab6b",
   "metadata": {},
   "outputs": [],
   "source": [
    "class Rectangle:\n",
    "    def __init__(self, length, width):\n",
    "        self.length = length\n",
    "        self.width = width\n",
    "\n",
    "    def area(self):\n",
    "        return self.length * self.width\n"
   ]
  },
  {
   "cell_type": "markdown",
   "id": "fe21497a-e718-49ad-bc22-20868e665eb8",
   "metadata": {},
   "source": [
    "Here, self is used to refer to the instance of the Rectangle class being worked with. In the __init__() method, self is used to set the length and width attributes of the instance. In the area() method, self is used to access the length and width attributes of the instance to calculate its area.\n",
    "\n",
    "When an object of the Rectangle class is created, self refers to that instance. For example:"
   ]
  },
  {
   "cell_type": "code",
   "execution_count": null,
   "id": "b23c70d4-d22c-482d-a73b-1fae48427a6e",
   "metadata": {},
   "outputs": [],
   "source": [
    "rect = Rectangle(5, 10)\n",
    "print(rect.area()) # Output: 50"
   ]
  },
  {
   "cell_type": "markdown",
   "id": "ee0ed471-9d5b-44a7-b6ae-c89d30d7e2a2",
   "metadata": {},
   "source": [
    "In the area() method, self refers to the rect object, so self.length is equal to rect.length and self.width is equal to rect.width. This allows the method to calculate the area of the rect object."
   ]
  },
  {
   "cell_type": "markdown",
   "id": "208cd1b0-eec5-468e-ac2e-f44aeb701ea8",
   "metadata": {},
   "source": [
    "# Q5. What is inheritance? Give an example for each type of inheritance."
   ]
  },
  {
   "cell_type": "markdown",
   "id": "2d66f237-3e97-4955-8995-2a6f74dc085e",
   "metadata": {},
   "source": [
    "Inheritance is a mechanism in object-oriented programming that allows a class to inherit properties and methods from its parent class. The parent class is also known as the base class or superclass, and the child class is also known as the derived class or subclass. Inheritance helps to create a hierarchy of classes where the derived classes inherit properties and behavior from the base class.\n",
    "\n",
    "There are four types of inheritance in Python:\n",
    "\n",
    "Single inheritance: When a class inherits from a single parent class, it is called single inheritance. The derived class inherits all the properties and methods of the base class.\n",
    "Example:"
   ]
  },
  {
   "cell_type": "code",
   "execution_count": null,
   "id": "d7cf914b-2d77-4a05-b0a5-9ae36be7f55f",
   "metadata": {},
   "outputs": [],
   "source": [
    "class Animal:\n",
    "    def __init__(self, name):\n",
    "        self.name = name\n",
    "\n",
    "    def speak(self):\n",
    "        pass\n",
    "\n",
    "class Dog(Animal):\n",
    "    def speak(self):\n",
    "        return \"Woof!\"\n",
    "\n",
    "dog = Dog(\"Buddy\")\n",
    "print(dog.name)\n",
    "print(dog.speak())\n"
   ]
  },
  {
   "cell_type": "markdown",
   "id": "796bba44-213c-4c27-9518-6c2ea4cd4b4f",
   "metadata": {},
   "source": [
    "Multiple inheritance: When a class inherits from multiple parent classes, it is called multiple inheritance. The derived class inherits properties and methods from all the base classes.\n",
    "Example:"
   ]
  },
  {
   "cell_type": "code",
   "execution_count": null,
   "id": "d6a7879b-07e5-4174-96c2-f78891aa8507",
   "metadata": {},
   "outputs": [],
   "source": [
    "class A:\n",
    "    def method(self):\n",
    "        print(\"Method from class A\")\n",
    "\n",
    "class B:\n",
    "    def method(self):\n",
    "        print(\"Method from class B\")\n",
    "\n",
    "class C(A, B):\n",
    "    pass\n",
    "\n",
    "c = C()\n",
    "c.method() # This will call the method from class A\n"
   ]
  },
  {
   "cell_type": "markdown",
   "id": "1183809f-44c8-42a7-901e-13427b307691",
   "metadata": {},
   "source": [
    "Multi-level inheritance: When a class inherits from a derived class, it is called multi-level inheritance. The derived class inherits properties and methods from its parent class, which in turn inherits from its own parent class.\n",
    "Example:"
   ]
  },
  {
   "cell_type": "code",
   "execution_count": null,
   "id": "0438974b-d7c9-46d3-95bf-94381424dae3",
   "metadata": {},
   "outputs": [],
   "source": [
    "class A:\n",
    "    def method(self):\n",
    "        print(\"Method from class A\")\n",
    "\n",
    "class B(A):\n",
    "    pass\n",
    "\n",
    "class C(B):\n",
    "    pass\n",
    "\n",
    "c = C()\n",
    "c.method() # This will call the method from class A\n"
   ]
  },
  {
   "cell_type": "markdown",
   "id": "0563d6b4-ec44-43f7-91bb-48d8045e414d",
   "metadata": {},
   "source": [
    "Hierarchical inheritance: When multiple derived classes inherit from a single base class, it is called hierarchical inheritance. The derived classes inherit properties and methods from the base class."
   ]
  },
  {
   "cell_type": "code",
   "execution_count": null,
   "id": "ce800e3c-a812-42db-a984-bcac5e088b29",
   "metadata": {},
   "outputs": [],
   "source": [
    "class Animal:\n",
    "    def __init__(self, name):\n",
    "        self.name = name\n",
    "\n",
    "    def speak(self):\n",
    "        pass\n",
    "\n",
    "class Cat(Animal):\n",
    "    def speak(self):\n",
    "        return \"Meow!\"\n",
    "\n",
    "class Cow(Animal):\n",
    "    def speak(self):\n",
    "        return \"Moo!\"\n",
    "\n",
    "cat = Cat(\"Fluffy\")\n",
    "print(cat.name)\n",
    "print(cat.speak())\n",
    "\n",
    "cow = Cow(\"Betsy\")\n",
    "print(cow.name)\n",
    "print(cow.speak())\n"
   ]
  }
 ],
 "metadata": {
  "kernelspec": {
   "display_name": "Python 3 (ipykernel)",
   "language": "python",
   "name": "python3"
  },
  "language_info": {
   "codemirror_mode": {
    "name": "ipython",
    "version": 3
   },
   "file_extension": ".py",
   "mimetype": "text/x-python",
   "name": "python",
   "nbconvert_exporter": "python",
   "pygments_lexer": "ipython3",
   "version": "3.10.8"
  }
 },
 "nbformat": 4,
 "nbformat_minor": 5
}
