{
 "cells": [
  {
   "cell_type": "markdown",
   "id": "c663a0ef-3007-4704-8c79-47b055dbe606",
   "metadata": {},
   "source": [
    "# Q1. What is Web Scraping? Why is it Used? Give three areas where Web Scraping is used to get data."
   ]
  },
  {
   "cell_type": "markdown",
   "id": "bab0d8fb-bd61-42aa-8c64-7b41b95ec8ef",
   "metadata": {},
   "source": [
    "Web scraping is the process of extracting data from websites by using automated software tools. It is used to extract structured information from websites and convert it into a structured format such as a spreadsheet or a database.\n",
    "\n",
    "Web scraping is used in various areas such as:\n",
    "\n",
    "* E-commerce: Online retailers use web scraping to extract data about their competitors’ products and prices, which they use to adjust their own prices.\n",
    "\n",
    "* Marketing and Sales: Marketers use web scraping to extract data from social media sites and online forums to monitor customer sentiment and to identify trends.\n",
    "\n",
    "* Research and Development: Researchers use web scraping to collect data on various topics such as scientific papers, patents, and clinical trials, which they use for analysis and to gain insights.\n",
    "\n",
    "In general, web scraping is used to gather data that can be used for analysis, research, and decision-making purposes."
   ]
  },
  {
   "cell_type": "markdown",
   "id": "ee6a70bb-a3cb-49d0-a6db-1287311a7a74",
   "metadata": {},
   "source": [
    "# Q2. What are the different methods used for Web Scraping?"
   ]
  },
  {
   "cell_type": "markdown",
   "id": "a25bb993-a1df-434e-8ee8-5eae76582493",
   "metadata": {},
   "source": [
    "There are different methods that can be used for web scraping, including:\n",
    "\n",
    "* Using programming languages such as Python, PHP, or Ruby to write custom scripts that scrape data from websites.\n",
    "\n",
    "* Using web scraping software tools such as BeautifulSoup, Scrapy, or Selenium, which automate the process of web scraping.\n",
    "\n",
    "* Using APIs provided by websites to access and retrieve data in a structured format.\n",
    "\n",
    "* Using browser extensions such as Web Scraper, Data Miner, or Octoparse to extract data from websites.\n",
    "\n",
    "* Using specialized web scraping services that offer data extraction and scraping as a service.\n",
    "\n",
    "\n",
    "Each method has its own advantages and limitations, and the choice of method depends on the complexity of the data to be scraped, the scale of the project, and the technical expertise of the scraper."
   ]
  },
  {
   "cell_type": "markdown",
   "id": "a8159d2e-efc4-4b53-81da-099c6b31182e",
   "metadata": {},
   "source": [
    "# Q3. What is Beautiful Soup? Why is it used?"
   ]
  },
  {
   "cell_type": "markdown",
   "id": "d1cc2af5-7078-49fe-8aad-7d9215a70b9b",
   "metadata": {},
   "source": [
    "Beautiful Soup is a Python library used for web scraping purposes to pull the data out of HTML and XML files. It provides ways to navigate, search, and modify a parsed HTML or XML document. Beautiful Soup parses the HTML file in a tree-like structure so that we can extract the information in a more hierarchical and more readable manner. Beautiful Soup can be used to extract specific data or to extract data from the entire HTML file. It's commonly used in data mining and data extraction from the web."
   ]
  },
  {
   "cell_type": "markdown",
   "id": "c2bf4d7f-53d5-46b0-a604-18235d3740a6",
   "metadata": {},
   "source": [
    "# Q4. Why is flask used in this Web Scraping project?"
   ]
  },
  {
   "cell_type": "markdown",
   "id": "9b88eb7f-4fb2-4087-ad77-fffd826537e1",
   "metadata": {},
   "source": [
    "Flask is a lightweight web framework that is commonly used for building web applications, including web scraping applications. It can be used to develop a RESTful API that allows users to interact with the scraped data through HTTP requests. Flask provides a simple and flexible way to create an API, and it can easily integrate with other Python libraries that are commonly used for web scraping, such as Beautiful Soup and Requests. In addition, Flask provides support for a variety of web servers, making it easy to deploy and run a web scraping application on different platforms."
   ]
  },
  {
   "cell_type": "markdown",
   "id": "182f4bb3-ae28-4fd4-a067-1607d6349462",
   "metadata": {},
   "source": [
    "# Q5. Write the names of AWS services used in this project. Also, explain the use of each service."
   ]
  },
  {
   "cell_type": "markdown",
   "id": "86c72d3f-2aa4-4406-8e80-e576b50f49c1",
   "metadata": {},
   "source": [
    "Here's an explanation of AWS CodePipeline and AWS Elastic Beanstalk:\n",
    "\n",
    "* AWS CodePipeline: It is a fully managed continuous delivery service that helps to automate the build, test, and deployment process for applications. It supports multiple integration points with a variety of source code repositories, build systems, and deployment services, including AWS Elastic Beanstalk, AWS CodeDeploy, and Amazon S3. In this project, CodePipeline is used to automate the deployment of the Flask app.\n",
    "\n",
    "* AWS Elastic Beanstalk: It is a fully managed service for deploying and scaling web applications and services. It provides a platform for developers to deploy applications in different languages such as Python, Java, PHP, Ruby, and more. Elastic Beanstalk automatically handles the deployment, scaling, monitoring, and maintenance of the application. In this project, Elastic Beanstalk is used to deploy the Flask app and host it on the web."
   ]
  }
 ],
 "metadata": {
  "kernelspec": {
   "display_name": "Python 3 (ipykernel)",
   "language": "python",
   "name": "python3"
  },
  "language_info": {
   "codemirror_mode": {
    "name": "ipython",
    "version": 3
   },
   "file_extension": ".py",
   "mimetype": "text/x-python",
   "name": "python",
   "nbconvert_exporter": "python",
   "pygments_lexer": "ipython3",
   "version": "3.10.8"
  }
 },
 "nbformat": 4,
 "nbformat_minor": 5
}
